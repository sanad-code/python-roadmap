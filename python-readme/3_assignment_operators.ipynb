{
 "cells": [
  {
   "cell_type": "markdown",
   "metadata": {},
   "source": [
    "# Assignment Operator\n",
    "\n",
    "The assignment operator is used to assign a value to a variable. The value of the right operand is assigned to the left operand.\n",
    "\n",
    "The developer is lazy in a good way. Instead of writing `a = a + 5`, the developer can write `a += 5`. The assignment operator is a shorthand way of writing the same thing. Time is Money!\n",
    "\n",
    "| Operator | Name | Description | Example | Notes |\n",
    "|----------|------|-------------|---------|-------|\n",
    "| `=` | Assignment | Assigns the value of the right operand to the left operand | `a = 5` | |\n",
    "| `+=` | Addition Assignment | Adds the value of the right operand to the left operand and assigns the result to the left operand | `a += 5` | Equivalent to `a = a + 5` |\n",
    "| `-=` | Subtraction Assignment | Subtracts the value of the right operand from the left operand and assigns the result to the left operand | `a -= 5` | Equivalent to `a = a - 5` |\n",
    "| `*=` | Multiplication Assignment | Multiplies the left operand by the value of the right operand and assigns the result to the left operand | `a *= 5` | Equivalent to `a = a * 5` |\n",
    "| `/=` | Division Assignment | Divides the left operand by the value of the right operand and assigns the result to the left operand | `a /= 5` | Equivalent to `a = a / 5` |\n",
    "| `//=` | Floor Division Assignment | Performs floor division on the left operand using the value of the right operand and assigns the result to the left operand | `a //= 5` | Equivalent to `a = a // 5` |\n",
    "| `%=` | Modulus Assignment | Computes the modulus of the left operand when divided by the right operand and assigns the result to the left operand | `a %= 5` | Equivalent to `a = a % 5` |\n",
    "| `**=` | Exponentiation Assignment | Raises the left operand to the power of the right operand and assigns the result to the left operand | `a **= 5` | Equivalent to `a = a ** 5` |"
   ]
  }
 ],
 "metadata": {
  "language_info": {
   "name": "python"
  }
 },
 "nbformat": 4,
 "nbformat_minor": 2
}
