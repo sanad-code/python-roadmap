{
 "cells": [
  {
   "cell_type": "markdown",
   "metadata": {},
   "source": [
    "# Operators in Python\n",
    "\n",
    "There are diffrent types of operators in Python. We will discuss here the arithamtic operators only. The other operators will be discussed with their respective topics for simplicity 😉.\n",
    "\n",
    "<img src=\"imgs/python_operators.png\" alt=\"Python Operators\" width=1000>"
   ]
  },
  {
   "cell_type": "markdown",
   "metadata": {},
   "source": [
    "## Arithmetic Operators\n",
    "\n",
    "### Basic Arithemtic Concepts\n",
    "\n",
    "Look at this simple example:\n",
    "`10 + 20 = 30`\n",
    "\n",
    "- `10` and `20` are called operands.\n",
    "- `+` is called operator.\n",
    "- `30` is the result of the addition operation.\n",
    "- **10 + 20** is called an expression.\n",
    "\n",
    "### Types of Operators\n",
    "\n",
    "- **Binary Operators**: Operators that require two operands. Like `+`, `-`, `*`, `/`, etc.\n",
    "- **Unary Operators**: Operators that require only one operand. Like `-`, `+`, etc.\n",
    "\n",
    "**IMPORTANT:** In python `-7` is not a literal, it is an expression with `-` as unary operator and `7` as operand.\n",
    "\n",
    "### Tier 1: Basic Arithmetic Operators\n",
    "\n",
    "| Operator | Name | Description | Example | Note |\n",
    "| --- | --- | --- | --- | --- |\n",
    "| + | Addition | Adds values on either side of the operator | `a + b` | |\n",
    "| - | Subtraction | Subtracts right hand operand from left hand operand | `a - b` | |\n",
    "| * | Multiplication | Multiplies values on either side of the operator | `a * b` | |\n",
    "| / | Division (Floor Division) | Divides left hand operand by right hand operand | `a / b` | This always returns a float value |"
   ]
  },
  {
   "cell_type": "code",
   "execution_count": null,
   "metadata": {
    "vscode": {
     "languageId": "plaintext"
    }
   },
   "outputs": [],
   "source": []
  }
 ],
 "metadata": {
  "language_info": {
   "name": "python"
  }
 },
 "nbformat": 4,
 "nbformat_minor": 2
}
