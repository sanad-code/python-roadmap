{
 "cells": [
  {
   "cell_type": "markdown",
   "metadata": {},
   "source": [
    "# Operators in Python\n",
    "\n",
    "There are diffrent types of operators in Python. We will discuss here the arithamtic operators only. The other operators will be discussed with their respective topics for simplicity 😉.\n",
    "\n",
    "<img src=\"imgs/python_operators.png\" alt=\"Python Operators\" width=1000>"
   ]
  },
  {
   "cell_type": "markdown",
   "metadata": {},
   "source": [
    "## Arithmetic Operators\n",
    "\n",
    "### Basic Arithemtic Concepts\n",
    "\n",
    "Look at this simple example:\n",
    "`10 + 20 = 30`\n",
    "\n",
    "- `10` and `20` are called operands.\n",
    "- `+` is called operator.\n",
    "- `30` is the result of the addition operation.\n",
    "- **10 + 20** is called an expression.\n",
    "\n",
    "### Types of Operators\n",
    "\n",
    "- **Binary Operators**: Operators that require two operands. Like `+`, `-`, `*`, `/`, etc.\n",
    "- **Unary Operators**: Operators that require only one operand. Like `-`, `+`, etc.\n",
    "\n",
    "**IMPORTANT:** In python `-7` is not a literal, it is an expression with `-` as unary operator and `7` as operand.\n",
    "\n",
    "### Tier 1: Basic Arithmetic Operators\n",
    "\n",
    "| Operator | Name | Description | Example | Note |\n",
    "| --- | --- | --- | --- | --- |\n",
    "| + | Addition | Adds values on either side of the operator | `a + b` | |\n",
    "| - | Subtraction | Subtracts right hand operand from left hand operand | `a - b` | |\n",
    "| * | Multiplication | Multiplies values on either side of the operator | `a * b` | |\n",
    "| / | Division (Float Division) | Divides left hand operand by right hand operand | `a / b` | This always returns a float value |\n",
    "\n",
    "\n"
   ]
  },
  {
   "cell_type": "code",
   "execution_count": null,
   "metadata": {},
   "outputs": [],
   "source": [
    "num1 = 1\n",
    "num2 = 2\n",
    "\n",
    "print(num1 + num2) # 3\n",
    "print(num1 - num2) # -1\n",
    "print(num2 - num1) # 1\n",
    "print(num1 * num2) # 2\n",
    "print(num1 / num2) # 0.5"
   ]
  },
  {
   "cell_type": "markdown",
   "metadata": {},
   "source": [
    "### Tier 2: Advanced Arithmetic Operators\n",
    "\n",
    "| Operator | Name | Description | Example | Note |\n",
    "| --- | --- | --- | --- | --- |\n",
    "| // | Division (Floor / Integer Division) | The division of operands where the result is the quotient in which the digits after the decimal point are removed | `a // b` | This always rounds down to the smallest integer **For -ve the round of -13.4 is -14 not -13** if it was **13.4 the round to the smallest is 13** So we don't ignore the fraction we round to the smallest!|\n",
    "| % | Modulus | Divides left hand operand by right hand operand and returns remainder | `a % b` | Modulus result is always result between 0 and number-1 |\n",
    "| ** | Exponent | Performs exponential (power) calculation on operators | `a ** b` | `a ** b` = `a` raised to the power `b`, the associativity of the exponent operator is from right to left. |"
   ]
  },
  {
   "cell_type": "code",
   "execution_count": null,
   "metadata": {},
   "outputs": [],
   "source": [
    "num1 = 1\n",
    "num2 = 2\n",
    "\n",
    "print(num1 // num2) # 0"
   ]
  },
  {
   "cell_type": "markdown",
   "metadata": {},
   "source": [
    "### Common Math Tricks with Operators\n",
    "\n",
    "#### 1. Modulus Operator %\n",
    "\n",
    "- **Even or Odd**: `n % 2 == 0` for even numbers and `n % 2 == 1` for odd numbers.\n",
    "- **Last Digit**: `n % 10` gives the last digit of `n`.\n",
    "- **Last N Digits**: `n % 10**d` gives the last `d` digits of `n`.\n",
    "- **Divisibility**: `n % x == 0` if `n` is divisible by `x`.\n",
    "\n",
    "\n",
    "#### 2. Floor Division Operator //\n",
    "\n",
    "- **Remove Last Digit**: `n // 10` removes the last digit of `n`.\n",
    "\n",
    "#### 3. Exponent Operator **\n",
    "\n",
    "- **Square of a Number**: `n ** 2` gives the square of `n`.\n",
    "- **Square Root**: `n ** 0.5` gives the square root of `n`.\n",
    "- **Cube of a Number**: `n ** 3` gives the cube of `n`.\n",
    "- **IMPORTANT🚨**`-10 ** 2` is `-100` Why? Because `-` is a unary operator the exponent evaluates first from right to left. So `10 ** 2` is `100` and then add the unary operator `-` to the result.\n",
    "- `(-10) ** 2` is `100` because the parenthesis evaluates first. So with negative numbers always use parenthesis to avoid confusion.\n",
    "\n"
   ]
  },
  {
   "cell_type": "markdown",
   "metadata": {},
   "source": [
    "### Operator Precedence\n",
    "\n",
    "- **PEMDAS Rule**: Parentheses, Exponents(Right to Left), Multiplication and Division(Left to Right), Addition and Subtraction(Left to Right).\n",
    "- **Associativity**: The order in which operators of the same precedence are evaluated. For example, `2 ** 3 ** 2` is evaluated as `2 ** (3 ** 2)` because the exponent operator is right associative.\n",
    "- **Parentheses**: Highest precedence, evaluated first.\n",
    "- **Unary Operators**: Have higher precedence than binary operators. For example, `-3 ** 2` is `-(3 ** 2)` not `(-3) ** 2`.\n",
    "- Expresion Evluation: Always evaluate from left to right. The associativity is only for the same precedence operators.\n",
    "\n",
    "<img src=\"imgs/precedence_table.png\" alt=\"Operator Precedence\" width=400>\n",
    "<br>\n",
    "<img src=\"imgs/python_precedence.jpg\" alt=\"Operator Precedence\" width=400>"
   ]
  },
  {
   "cell_type": "code",
   "execution_count": null,
   "metadata": {},
   "outputs": [],
   "source": [
    "# What this example evaluates to?\n",
    "expression = 1 + 2 * 3 + (2 - 1 + 1) / 2 * 2 ** 3 ** 2\n",
    "print(expression) # 519.0"
   ]
  }
 ],
 "metadata": {
  "language_info": {
   "name": "python"
  }
 },
 "nbformat": 4,
 "nbformat_minor": 2
}
