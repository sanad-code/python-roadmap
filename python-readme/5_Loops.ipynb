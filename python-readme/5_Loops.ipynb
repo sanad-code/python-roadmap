{
 "cells": [
  {
   "cell_type": "markdown",
   "metadata": {},
   "source": [
    "# Welcome to Loops in Python ➰\n",
    "\n",
    "Loop == Circle == Repetition == Iteration 🔃\n",
    "\n",
    "🚨 **`DRY`** `Don't repeat yourself.` 🚨\n",
    "\n",
    "🛑 `STOP COPYING AND PASTING CODE!` 🛑🤚\n",
    "\n",
    "#### Go back to [Conditional Statements 🔙](./4_conditional_statements.ipynb)\n",
    "\n",
    "## In this section 🧐🤔\n",
    "\n",
    "- While loop\n",
    "- For loop\n",
    "- Nested loops\n",
    "- Loop control flow"
   ]
  },
  {
   "cell_type": "markdown",
   "metadata": {},
   "source": [
    "## While Loop\n",
    "\n",
    "What if you want to print \"I am learning Python\" 10 times? \n",
    "\n",
    "👎 The wrong way ❌🙅‍♂️ This will print it 10 times but it is bad!\n",
    "\n",
    "```python\n",
    "print(\"I am learning Python\")\n",
    "print(\"I am learning Python\")\n",
    "print(\"I am learning Python\")\n",
    "print(\"I am learning Python\")\n",
    "print(\"I am learning Python\")\n",
    "print(\"I am learning Python\")\n",
    "print(\"I am learning Python\")\n",
    "print(\"I am learning Python\")\n",
    "print(\"I am learning Python\")\n",
    "print(\"I am learning Python\")\n",
    "```\n",
    "\n",
    "👍 The right way ✅👇\n",
    "\n",
    "```python\n",
    "count = 0\n",
    "while count < 10:\n",
    "    print(\"I am learning Python\")\n",
    "    count += 1\n",
    "```\n",
    "\n",
    "- While loop is used to execute a block of statements repeatedly **until a given condition is satisfied**.\n",
    "- While accepts a condition (True or False). As long as the condition is True, the block of code inside the loop will be executed.\n",
    "- The condition is evaluated before executing the loop's body. If the condition is False, the loop will not be executed at all.\n",
    "- 🚨 Make sure to increment the variable inside the loop, otherwise, the loop will run indefinitely ♾️.\n",
    "\n",
    "👎 Don't make infinite loops! 🔄\n",
    "\n",
    "```python\n",
    "count = 0\n",
    "while count < 10:\n",
    "    print(\"I am learning Python\")\n",
    "```\n",
    "\n",
    "---"
   ]
  },
  {
   "cell_type": "markdown",
   "metadata": {},
   "source": [
    "\n",
    "**Simple example 1:**\n",
    "\n",
    "`Print numbers from 1 to 10`"
   ]
  },
  {
   "cell_type": "code",
   "execution_count": 10,
   "metadata": {},
   "outputs": [
    {
     "name": "stdout",
     "output_type": "stream",
     "text": [
      "1 2 3 4 5 6 7 8 9 10 "
     ]
    }
   ],
   "source": [
    "num = 1\n",
    "while num <= 10:\n",
    "    print(num, end=' ')\n",
    "    num += 1"
   ]
  },
  {
   "cell_type": "markdown",
   "metadata": {},
   "source": [
    "**Simple Example 2:**\n",
    "\n",
    "`Print even numbers from 1 to 20`"
   ]
  },
  {
   "cell_type": "code",
   "execution_count": 4,
   "metadata": {},
   "outputs": [
    {
     "name": "stdout",
     "output_type": "stream",
     "text": [
      "2 4 6 8 10 "
     ]
    }
   ],
   "source": [
    "num = 1\n",
    "while num <= 20:\n",
    "    if num % 2 == 0:\n",
    "        print(num, end=' ')\n",
    "    num += 1"
   ]
  },
  {
   "cell_type": "markdown",
   "metadata": {},
   "source": [
    "## For Loop\n",
    "\n",
    "This is the simple form of the `for` loop in Python.\n",
    "\n",
    "```python\n",
    "for i in range(10):\n",
    "    print(\"I am learning Python\")\n",
    "```\n",
    "\n",
    "What is the difference between `for` and `while` loop? 🤔\n",
    "\n",
    "- `i` the increment variable is not outside, **You don't need to increment the variable manually**.\n",
    "- `range(10)` is a built-in function that generates a sequence of numbers from `0` to `9`, 🚨 NOT from `1` to `10`.\n",
    "- You should use for loop when you know the number of iterations. ✅\n",
    "- You should use while loop when you don't know the number of iterations in advance. ✅\n",
    "---"
   ]
  },
  {
   "cell_type": "markdown",
   "metadata": {},
   "source": [
    "**Simple Example:**\n",
    "\n",
    "`Print numbers from 0 to 20 in one line using for loop`"
   ]
  },
  {
   "cell_type": "code",
   "execution_count": 5,
   "metadata": {},
   "outputs": [
    {
     "name": "stdout",
     "output_type": "stream",
     "text": [
      "0 1 2 3 4 5 6 7 8 9 10 11 12 13 14 15 16 17 18 19 20 "
     ]
    }
   ],
   "source": [
    "for i in range(21):\n",
    "    print(i, end=' ')"
   ]
  },
  {
   "cell_type": "markdown",
   "metadata": {},
   "source": [
    "---\n",
    "\n",
    "🫷 Wait a second! What if you want to print numbers from 1 to 20? 🤔\n",
    "\n",
    "#### We can specify `start`, `end`, and `step` in the `range()` function.\n",
    "\n",
    "- Start is inclusive.\n",
    "- **`End is exclusive`.** We will not reach the end value. Why? 🤔\n",
    "  - Because the 0 based index starts from 0. So if you want 10 numbers they will be from 0 to 9.\n",
    "  - So simply, you should add 1 to the end value.\n",
    "- Step can be positive or negative.➕➖"
   ]
  },
  {
   "cell_type": "code",
   "execution_count": 6,
   "metadata": {},
   "outputs": [
    {
     "name": "stdout",
     "output_type": "stream",
     "text": [
      "1 2 3 4 5 6 7 8 9 10 11 12 13 14 15 16 17 18 19 20 "
     ]
    }
   ],
   "source": [
    "# We specify the start, end, by default step is 1 if not specified\n",
    "for i in range(1, 21):\n",
    "    print(i, end=\" \")"
   ]
  },
  {
   "cell_type": "code",
   "execution_count": 11,
   "metadata": {},
   "outputs": [
    {
     "name": "stdout",
     "output_type": "stream",
     "text": [
      "1 4 7 10 13 16 19 "
     ]
    }
   ],
   "source": [
    "# We specify the start, end, and step\n",
    "for i in range(1, 21, 3):\n",
    "    print(i, end=\" \")"
   ]
  },
  {
   "cell_type": "markdown",
   "metadata": {},
   "source": [
    "---\n",
    "\n",
    "**Simple Example:**\n",
    "\n",
    "`Print even numbers from 0 to 20 without using if condition`"
   ]
  },
  {
   "cell_type": "code",
   "execution_count": 9,
   "metadata": {},
   "outputs": [
    {
     "name": "stdout",
     "output_type": "stream",
     "text": [
      "0 2 4 6 8 10 12 14 16 18 20 "
     ]
    }
   ],
   "source": [
    "for i in range(0,21,2):\n",
    "    print(i, end=\" \")"
   ]
  },
  {
   "cell_type": "markdown",
   "metadata": {},
   "source": [
    "---\n",
    "\n",
    "🫷 Wait a second! What if you want to print numbers from 20 to 1? 🤔\n",
    "\n",
    "#### We can specify `negative` `step` in the `range()` function.\n",
    "\n",
    "- Still start is inclusive and end is exclusive.\n",
    "- In case of negative step, we should `subtract` one to the end value."
   ]
  },
  {
   "cell_type": "code",
   "execution_count": 10,
   "metadata": {},
   "outputs": [
    {
     "name": "stdout",
     "output_type": "stream",
     "text": [
      "20 19 18 17 16 15 14 13 12 11 10 9 8 7 6 5 4 3 2 1 "
     ]
    }
   ],
   "source": [
    "# Print numbers from 20 to 1\n",
    "for i in range(20, 0, -1):\n",
    "    print(i, end=\" \")"
   ]
  },
  {
   "cell_type": "markdown",
   "metadata": {},
   "source": [
    "🆘 Is there a simple way, I am confused 💁\n",
    "\n",
    "#### Yes, there is a simple way! 🤗\n",
    "\n",
    "- You can use `reversed()` function to reverse the range.\n",
    "\n",
    "```python\n",
    "for i in reversed(range(1, 21)):\n",
    "    print(i, end=\" \")\n",
    "```"
   ]
  },
  {
   "cell_type": "markdown",
   "metadata": {},
   "source": [
    "---\n",
    "\n",
    "**Example:**\n",
    "\n",
    "`Print the numbers from 20 to 1, if the number is divisible by 5 print \"Bingo!\"`"
   ]
  },
  {
   "cell_type": "code",
   "execution_count": 12,
   "metadata": {},
   "outputs": [
    {
     "name": "stdout",
     "output_type": "stream",
     "text": [
      "Bingo! 19 18 17 16 Bingo! 14 13 12 11 Bingo! 9 8 7 6 Bingo! 4 3 2 1 "
     ]
    }
   ],
   "source": [
    "for i in range(20, 0, -1):\n",
    "    if(i % 5 == 0):\n",
    "        print(\"Bingo!\", end=\" \")\n",
    "    else:\n",
    "        print(i, end=\" \")"
   ]
  },
  {
   "cell_type": "markdown",
   "metadata": {},
   "source": [
    "## Nested Loops\n",
    "\n",
    "Up till now, we are using a single loop.\n",
    "\n",
    "| 👇 | | | | |\n",
    "|---|---|---|---|---|\n",
    "| 0 | 1 | 2 | 3 | 4 |\n",
    "\n",
    "What if we have this table? 🤔\n",
    "\n",
    "|  | 0 | 1 | 2 |\n",
    "|---|---|---|---|\n",
    "| 0 | (0,0) | (0,1) | (0,2) |\n",
    "| 1 | (1,0) | (1,1) | (1,2) |\n",
    "| 2 | (2,0) | (2,1) | (2,2) |\n",
    "\n",
    "One loop is not enough! We need to use nested loops.\n",
    "\n",
    "|  |  | 👇 |  | |\n",
    "|---|---|---|---| ---|\n",
    "|  |  | 0 | 1 | 2 | \n",
    "| 👉 | 0 | (0,0) | (0,1) | (0,2) |\n",
    "| | 1 | (1,0) | (1,1) | (1,2) |\n",
    "| | 2 | (2,0) | (2,1) | (2,2) |"
   ]
  },
  {
   "cell_type": "code",
   "execution_count": 14,
   "metadata": {},
   "outputs": [
    {
     "name": "stdout",
     "output_type": "stream",
     "text": [
      "( 0 , 0 ) ( 0 , 1 ) ( 0 , 2 ) ( 1 , 0 ) ( 1 , 1 ) ( 1 , 2 ) ( 2 , 0 ) ( 2 , 1 ) ( 2 , 2 ) "
     ]
    }
   ],
   "source": [
    "## This is the row loop\n",
    "for i in range(0,3):\n",
    "    ## This is the column loop\n",
    "    for j in range(0,3):\n",
    "        print(\"(\",i,\",\",j,\")\", end=\" \")"
   ]
  },
  {
   "cell_type": "markdown",
   "metadata": {},
   "source": [
    "---\n",
    "\n",
    "**Excercise:**\n",
    "\n",
    "`Print the multiplication table of 0 to 3`\n",
    "\n",
    "\n",
    "| | 1 | 2 | 3 | 4 | 5 | 6 | 7 | 8 | 9 | 10 |\n",
    "|---|---|---|---|---|---|---|---|---|---|---|\n",
    "| `0` | 0 | 0 | 0 | 0 | 0 | 0 | 0 | 0 | 0 | 0 |\n",
    "| `1` | 1 | 2 | 3 | 4 | 5 | 6 | 7 | 8 | 9 | 10 |\n",
    "| `2` | 2 | 4 | 6 | 8 | 10 | 12 | 14 | 16 | 18 | 20 |\n",
    "| `3` | 3 | 6 | 9 | 12 | 15 | 18 | 21 | 24 | 27 | 30 |"
   ]
  },
  {
   "cell_type": "code",
   "execution_count": 19,
   "metadata": {},
   "outputs": [
    {
     "name": "stdout",
     "output_type": "stream",
     "text": [
      "Multiplication table of 0\n",
      "0 x 1 = 0  |  0 x 2 = 0  |  0 x 3 = 0  |  0 x 4 = 0  |  0 x 5 = 0  |  0 x 6 = 0  |  0 x 7 = 0  |  0 x 8 = 0  |  0 x 9 = 0  |  0 x 10 = 0  |  \n",
      "Multiplication table of 1\n",
      "1 x 1 = 1  |  1 x 2 = 2  |  1 x 3 = 3  |  1 x 4 = 4  |  1 x 5 = 5  |  1 x 6 = 6  |  1 x 7 = 7  |  1 x 8 = 8  |  1 x 9 = 9  |  1 x 10 = 10  |  \n",
      "Multiplication table of 2\n",
      "2 x 1 = 2  |  2 x 2 = 4  |  2 x 3 = 6  |  2 x 4 = 8  |  2 x 5 = 10  |  2 x 6 = 12  |  2 x 7 = 14  |  2 x 8 = 16  |  2 x 9 = 18  |  2 x 10 = 20  |  \n",
      "Multiplication table of 3\n",
      "3 x 1 = 3  |  3 x 2 = 6  |  3 x 3 = 9  |  3 x 4 = 12  |  3 x 5 = 15  |  3 x 6 = 18  |  3 x 7 = 21  |  3 x 8 = 24  |  3 x 9 = 27  |  3 x 10 = 30  |  \n"
     ]
    }
   ],
   "source": [
    "for i in range(4):\n",
    "    print(\"Multiplication table of\", i)\n",
    "    for j in range(1,11):\n",
    "        print(i, \"x\", j, \"=\", i*j , \" | \", end=\" \")\n",
    "    print()"
   ]
  },
  {
   "cell_type": "markdown",
   "metadata": {},
   "source": [
    "### Loop Control Flow\n",
    "\n",
    "Keywords that change the flow of the loop. `break`, `continue`, and `pass`.\n",
    "\n",
    "- `break`: Stop and Exit the loop. 🛑\n",
    "- `continue`: Skip the current iteration and continue with the next iteration. 🔄\n",
    "- `pass`: Do nothing. 🤷‍♂️"
   ]
  },
  {
   "cell_type": "code",
   "execution_count": 29,
   "metadata": {},
   "outputs": [
    {
     "name": "stdout",
     "output_type": "stream",
     "text": [
      "1 2 3 4 Sum is 15\n"
     ]
    }
   ],
   "source": [
    "# Print the sum of all numbers from 1 to 10, if the sum reached 11, stop don't add the next number and print the sum!\n",
    "sum = 0\n",
    "for i in range(1, 11):\n",
    "    sum += i\n",
    "    if sum >= 11:\n",
    "        break\n",
    "    print(i, end=\" \")\n",
    "print(\"Sum is\", sum)"
   ]
  },
  {
   "cell_type": "code",
   "execution_count": 31,
   "metadata": {},
   "outputs": [
    {
     "name": "stdout",
     "output_type": "stream",
     "text": [
      "1 2 4 5 6 8 9 10 Sum is 45\n"
     ]
    }
   ],
   "source": [
    "# Print the sum of all numbers from 1 to 10, don't include 3 and 7 in the sum.\n",
    "sum = 0\n",
    "for i in range(1, 11):\n",
    "    if i == 3 or i == 7:\n",
    "        continue\n",
    "    sum += i\n",
    "    print(i, end=\" \")\n",
    "print(\"Sum is\", sum)"
   ]
  },
  {
   "cell_type": "code",
   "execution_count": 33,
   "metadata": {},
   "outputs": [],
   "source": [
    "# Python dose not allow empty loops, so we can use pass to avoid this error\n",
    "# Maybe I am still thinking about the logic of the loop 🤷‍♂️\n",
    "for i in range(1, 11):\n",
    "    pass"
   ]
  }
 ],
 "metadata": {
  "kernelspec": {
   "display_name": "Python 3",
   "language": "python",
   "name": "python3"
  },
  "language_info": {
   "codemirror_mode": {
    "name": "ipython",
    "version": 3
   },
   "file_extension": ".py",
   "mimetype": "text/x-python",
   "name": "python",
   "nbconvert_exporter": "python",
   "pygments_lexer": "ipython3",
   "version": "3.13.1"
  }
 },
 "nbformat": 4,
 "nbformat_minor": 2
}
