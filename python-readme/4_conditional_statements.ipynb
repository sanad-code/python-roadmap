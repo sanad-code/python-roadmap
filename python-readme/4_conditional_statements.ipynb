{
 "cells": [
  {
   "cell_type": "markdown",
   "metadata": {},
   "source": [
    "# Welcome to Conditional Statements 🤗 🌿\n",
    "\n",
    "#### Go back to [Assignment Operator 🔙](./3_assignment_operators.ipynb) \n",
    "\n",
    "## What we will discuss in this section 🧐🤔\n",
    "\n",
    "- Conditional statements if, elif, else\n",
    "- Operators related to conditional statements\n",
    "  1. Comparison/Relational Operators\n",
    "  2. Logical Operators\n",
    "  3. Bitwise Operators\n",
    "  4. Identity Operators"
   ]
  },
  {
   "cell_type": "markdown",
   "metadata": {},
   "source": [
    "## Simple Example of Conditional Statement 🤓\n",
    "\n",
    "- Conditional statements are used to perform different computations or actions depending on whether a condition evaluates to `True` or `False`. \n",
    "- It is also known as `decision-making statements` or `branching statements` or `flow control statements`.\n",
    "\n",
    "<img src=\"./imgs/conditional-statement.png\" width=\"500\">"
   ]
  },
  {
   "cell_type": "code",
   "execution_count": 1,
   "metadata": {},
   "outputs": [
    {
     "name": "stdout",
     "output_type": "stream",
     "text": [
      "b is greater than a\n"
     ]
    }
   ],
   "source": [
    "# The above image code\n",
    "a = 2\n",
    "b = 3\n",
    "if b > a:\n",
    "    print(\"b is greater than a\")\n",
    "    if b > 5:\n",
    "        print(\"b is greater than 5\")\n",
    "else:\n",
    "    print(\"b is Less than a\")"
   ]
  },
  {
   "cell_type": "markdown",
   "metadata": {},
   "source": [
    "## Conditional Statements in Python 🤓\n",
    "\n",
    "- Conditional statements are used to perform different computations or actions depending on whether a condition evaluates to `True` or `False`.\n",
    "- `if` statement is the most simple decision-making statement.\n",
    "- `if` statement evaluates the condition inside the parenthesis and if the condition is `True`, then it executes the block of code inside the `if` block.\n",
    "- `elif` is short for `else if`. It allows us to check multiple expressions for `True` and execute a block of code as soon as one of the conditions is `True`.\n",
    "- `else` statement is used to execute a block of code if the condition is `False`."
   ]
  },
  {
   "cell_type": "code",
   "execution_count": 3,
   "metadata": {},
   "outputs": [
    {
     "name": "stdout",
     "output_type": "stream",
     "text": [
      "ten is less than twenty\n"
     ]
    }
   ],
   "source": [
    "ten = 10\n",
    "twenty = 20\n",
    "\n",
    "if( ten > twenty):\n",
    "    print(\"ten is greater than twenty\")\n",
    "elif( ten < twenty and ten is twenty):\n",
    "    print(\"ten is less than twenty and ten memory address is same as twenty memory address\")\n",
    "else:\n",
    "    print(\"ten is less than twenty\")"
   ]
  },
  {
   "cell_type": "markdown",
   "metadata": {},
   "source": [
    "## First lets understand the `Comparison / Relational` Operators 🤔\n",
    "\n",
    "- Relational operators are used to `compare` values. It either returns `True` or `False` according to the condition.\n",
    "\n",
    "Consider two variables `a = 10` and `b = 20`\n",
    "\n",
    "| Operator | Description | Example | Notes |\n",
    "| --- | --- | --- | --- |\n",
    "| `==` | If the values of two operands are equal, then the condition becomes true. | (a == b) is false. | This is not assignment operator. Assignment operator is = |\n",
    "| `!=` | If values of two operands are not equal, then condition becomes true. | (a != b) is true. | |\n",
    "| `>` | If the value of left operand is greater than the value of right operand, then condition becomes true. | (a > b) is false. | |\n",
    "| `<` | If the value of left operand is less than the value of right operand, then condition becomes true. | (a < b) is true. | |\n",
    "| `>=` | If the value of left operand is greater than or equal to the value of right operand, then condition becomes true. | (a >= b) is false. | |\n",
    "| `<=` | If the value of left operand is less than or equal to the value of right operand, then condition becomes true. | (a <= b) is true. | |\n"
   ]
  },
  {
   "cell_type": "code",
   "execution_count": null,
   "metadata": {},
   "outputs": [],
   "source": [
    "# Examples of comparison operators\n",
    "# Don't put extra lines, this is just for better visibility\n",
    "ten = 10\n",
    "twenty = 20\n",
    "\n",
    "print(\"ten is equal to twenty ? 10 == 20 \", ten == twenty) # False\n",
    "\n",
    "print(\"ten is not equal to twenty ? 10 != 20 \", ten != twenty) # True\n",
    "\n",
    "print(\"ten is greater than twenty ? 10 > 20 \", ten > twenty) # False\n",
    "\n",
    "print(\"ten is less than twenty ? 10 < 20 \", ten < twenty) # True\n",
    "\n",
    "print(\"ten is greater than or equal to twenty ? 10 >= 20 \", ten >= twenty) # False\n",
    "\n",
    "print(\"ten is less than or equal to twenty ? 10 <= 20 \", ten <= twenty) # True"
   ]
  },
  {
   "cell_type": "markdown",
   "metadata": {},
   "source": [
    "## What types are valid for comparison? 🤔\n",
    "\n",
    "| Type | Relational Operators | How it works | Example | Result | Notes |\n",
    "| --- | --- | --- | --- | --- | --- |\n",
    "| Integers | `==`, `!=`, `>`, `<`, `>=`, `<=` | Compare the values of two integers | `10 == 20` | False |\n",
    "| Floats | `==`, `!=`, `>`, `<`, `>=`, `<=` | Compare the values of two floats | `10.0 > 30.1` | False | Sometimes it may give unexpected results due to precision |\n",
    "| Strings | `==`, `!=`, `>`, `<`, `>=`, `<=` | Compare the values of two strings | `'hello' == 'world'` | False | This is lexicographical comparison (`Dictionary Order`), it compares the ASCII values of the characters one by one, if the first character of both strings is same, then it compares the second character of both strings and so on. |\n",
    "| boolean | `==`, `!=` | Compare the values of two booleans | `True == False` | False | All operators are valid as True can be 1 and False can be 0, but normally we use == and !=|"
   ]
  },
  {
   "cell_type": "code",
   "execution_count": 9,
   "metadata": {},
   "outputs": [
    {
     "name": "stdout",
     "output_type": "stream",
     "text": [
      "True\n",
      "True\n",
      "ahmed < Ahmed ?  False\n",
      "97 65\n"
     ]
    }
   ],
   "source": [
    "# Example 1\n",
    "print( True >= False) # True Why? Because True is 1 and False is 0\n",
    "# This is the same as\n",
    "print( 1 >= 0) # True\n",
    "\n",
    "# Example 2\n",
    "print(\"ahmed < Ahmed ? \", \"ahmed\" < \"Ahmed\") # False Why? Because the ASCII value of 'a' is 97 and 'A' is 65\n",
    "# Get ASCII value of a character\n",
    "print(ord('a'), ord('A')) # 97, 65"
   ]
  },
  {
   "cell_type": "markdown",
   "metadata": {},
   "source": [
    "## Let's make it more interesting by understanding `Logical` Operators 🤓\n",
    "\n",
    "- Logical operators are used to `combine conditional statements`. So we can create complex conditions.\n",
    "- It returns `True` or `False` according to the condition.\n",
    "\n",
    "| Operator | Description | Example | Notes | مثال |\n",
    "| --- | --- | --- | --- | --- |\n",
    "| `and` `و`| If both the operands are true, then the condition becomes true. | (a and b) is true. | In python we don't use `&&` | هات الكتب و القلم -> ✏️ and 📚 |\n",
    "| `or` `او`| If any of the two operands are non-zero, then the condition becomes true. | (a or b) is true. | In python we don't use `\\|\\|` | هات الكتب او القلم -> ✏️ or 📚 |\n",
    "| `not` `مش`| Used to reverse the logical state of its operand. If a condition is true, then `not` logical operator will make it false. | not(a and b) is false. | In python we don't use `!` | هات قلم مش اصفر -> not ✏️ |"
   ]
  },
  {
   "cell_type": "code",
   "execution_count": 3,
   "metadata": {},
   "outputs": [
    {
     "name": "stdout",
     "output_type": "stream",
     "text": [
      "one is less than two and ten is less than twenty ?  True\n",
      "one is less than two and ten is greater than twenty ?  False\n",
      "one is less than two or ten is greater than twenty ?  True\n",
      "one is greater than two or ten is greater than twenty ?  False\n",
      "one is greater than two or ten is less than twenty ?  True\n",
      "not is_18_years_old ?  False\n",
      "is_18_years_old ?  True\n"
     ]
    }
   ],
   "source": [
    "one = 1\n",
    "two = 2\n",
    "ten = 10\n",
    "twenty = 20\n",
    "is_18_years_old = True\n",
    "\n",
    "# Examples of logical operators\n",
    "# Don't put extra lines, this is just for better visibility\n",
    "print(\"one is less than two and ten is less than twenty ? \", one < two and ten < twenty) # True\n",
    "\n",
    "print(\"one is less than two and ten is greater than twenty ? \", one < two and ten > twenty) # False\n",
    "\n",
    "print(\"one is less than two or ten is greater than twenty ? \", one < two or ten > twenty) # True\n",
    "\n",
    "print(\"one is greater than two or ten is greater than twenty ? \", one > two or ten > twenty) # False\n",
    "\n",
    "print(\"one is greater than two or ten is less than twenty ? \", one > two or ten < twenty) # True\n",
    "\n",
    "print(\"not is_18_years_old ? \", not is_18_years_old) # False\n",
    "\n",
    "print(\"is_18_years_old ? \", is_18_years_old) # True\n"
   ]
  },
  {
   "cell_type": "markdown",
   "metadata": {},
   "source": [
    "## Deep Dive into truth table of Logical Operators 🤿\n",
    "\n",
    "### AND Operator\n",
    "\n",
    "| A | B | A and B | Notes |\n",
    "| --- | --- | --- | --- |\n",
    "| True | True | True | Both must be true to be true |\n",
    "| True | False | False | Any one is false then it is false |\n",
    "| False | True | False |\n",
    "| False | False | False |\n",
    "\n",
    "### OR Operator\n",
    "\n",
    "| A | B | A or B | Notes |\n",
    "| --- | --- | --- | --- |\n",
    "| True | True | True | Any one is true then it is true |\n",
    "| True | False | True |\n",
    "| False | True | True |\n",
    "| False | False | False | Both must be false to be false |\n",
    "\n",
    "### NOT Operator\n",
    "\n",
    "| A | not A | Notes |\n",
    "| --- | --- | --- |\n",
    "| True | False | Reverses the state |\n",
    "| False | True | Reverses the state |"
   ]
  },
  {
   "cell_type": "markdown",
   "metadata": {},
   "source": [
    "## Logical Operators that are not boolean 🤔\n",
    "\n",
    "- All non-zero values are considered as `True` and `0` is considered as `False`. This is valid for integers and floats.\n",
    "- For strings, empty strings are considered as `False` and non-empty strings are considered as `True`.\n",
    "- For lists, tuples, sets, dictionaries, empty sequences are considered as `False` and non-empty sequences are considered as `True`. \n",
    "  - This is not like JS where empty array is considered as `True`.\n",
    "- For `None`, it is considered as `False`. \n",
    "  - `None` is a special constant in Python that represents the absence of a value or a null value."
   ]
  },
  {
   "cell_type": "code",
   "execution_count": 15,
   "metadata": {},
   "outputs": [
    {
     "name": "stdout",
     "output_type": "stream",
     "text": [
      "1 is True\n",
      "0 and 0.0 is False\n",
      "Empty string is False\n",
      "Sanad is True\n"
     ]
    }
   ],
   "source": [
    "# Examples of Non boolean values\n",
    "# Don't put extra lines, this is just for better visibility\n",
    "\n",
    "if(1):\n",
    "    print(\"1 is True\")\n",
    "\n",
    "if(0):\n",
    "    print(\"0 is True\")\n",
    "elif(0.0):\n",
    "    print(\"0.0 is True\")\n",
    "else:\n",
    "    print(\"0 and 0.0 is False\")\n",
    "\n",
    "if(\"\"):\n",
    "    print(\"Empty string is True\")\n",
    "else:\n",
    "    print(\"Empty string is False\")\n",
    "\n",
    "if(\"Sanad\"):\n",
    "    print(\"Sanad is True\")"
   ]
  },
  {
   "cell_type": "markdown",
   "metadata": {},
   "source": [
    "## Let's Build on the non Boolean Logical Operators 🏗️ , `short-circuit` ⚡\n",
    "\n",
    "- This means that the second operand is evaluated **only if needed**.\n",
    "- For `and` operator, if the first operand is `False`, then the second operand is not evaluated.\n",
    "  - `and` act like a `gate` or `guard`, if the first operand is `False`, then the gate is closed and the second operand is not evaluated.\n",
    "- For `or` operator, if the first operand is `True`, then the second operand is not evaluated.\n",
    "  - `or` act like a `default`, if the first operand is `False`, then the default value is the second operand."
   ]
  },
  {
   "cell_type": "code",
   "execution_count": 23,
   "metadata": {},
   "outputs": [
    {
     "name": "stdout",
     "output_type": "stream",
     "text": [
      "0 and 1 is  0\n",
      "0 or 1 is  1\n",
      "1 0\n",
      "1 2\n"
     ]
    }
   ],
   "source": [
    "a = 0 and 1\n",
    "print(\"0 and 1 is \", a) # 0\n",
    "\n",
    "b = 0 or 1\n",
    "print(\"0 or 1 is \", b) # 1\n",
    "\n",
    "c = 1\n",
    "d = 0 and c+1\n",
    "print(c,d)\n",
    "\n",
    "e = 1\n",
    "f = 1 and e+1\n",
    "print(e,f)"
   ]
  },
  {
   "cell_type": "markdown",
   "metadata": {},
   "source": [
    "## Identity Operators 🤔\n",
    "\n",
    "- `is` and `is not` are the identity operators in Python.\n",
    "- Identity operators are used to compare the `memory locations` of two objects.\n",
    "- It returns `True` if the memory locations of two objects are the same, otherwise `False`."
   ]
  },
  {
   "cell_type": "code",
   "execution_count": 1,
   "metadata": {},
   "outputs": [
    {
     "name": "stdout",
     "output_type": "stream",
     "text": [
      "ten memory address is same as twenty memory address ?  False\n",
      "ten memory address is same as twenty memory address ?  True\n"
     ]
    }
   ],
   "source": [
    "ten = 10\n",
    "twenty = 20\n",
    "\n",
    "print(\"ten memory address is same as twenty memory address ? \", ten is twenty) # False\n",
    "\n",
    "twenty = ten\n",
    "\n",
    "print(\"ten memory address is same as twenty memory address ? \", ten is twenty) # True"
   ]
  },
  {
   "cell_type": "markdown",
   "metadata": {},
   "source": [
    "## Bitwise Operators 🤔\n",
    "\n",
    "- Bitwise operators are used to perform `bitwise` operations.\n",
    "- Bitwise operators work on bits and perform bit by bit operation.\n",
    "- The truth tables for bitwise operators are similar to logical operators, but they work on bits.\n",
    "- Bitwise operators are used in low-level programming like device drivers, embedded systems, etc.\n",
    "- Top 4 Bitwise Operators are:\n",
    "  1. `&` (Bitwise AND)\n",
    "  2. `|` (Bitwise OR)\n",
    "  3. `^` (Bitwise XOR)\n",
    "  4. `~` (Bitwise NOT)\n",
    "\n",
    "## Bitwise AND Operator `&` 🤔\n",
    "\n",
    "- It performs `bitwise AND` operation on the operands.\n",
    "- It returns `1` if both the bits are `1`, otherwise `0`.\n",
    "- `1 & 1 = 1`, `1 & 0 = 0`, `0 & 1 = 0`, `0 & 0 = 0`.\n",
    "\n",
    "## Bitwise OR Operator `|` 🤔\n",
    "\n",
    "- It performs `bitwise OR` operation on the operands.\n",
    "- It returns `1` if any of the bits is `1`, otherwise `0`.\n",
    "- `1 | 1 = 1`, `1 | 0 = 1`, `0 | 1 = 1`, `0 | 0 = 0`.\n",
    "\n",
    "## Bitwise XOR Operator `^` 🤔\n",
    "\n",
    "- It performs `bitwise XOR` operation on the operands.\n",
    "- It returns `1` if the bits are different, otherwise `0`.\n",
    "- `1 ^ 1 = 0`, `1 ^ 0 = 1`, `0 ^ 1 = 1`, `0 ^ 0 = 0`.\n",
    "\n",
    "## Bitwise NOT Operator `~` 🤔\n",
    "\n",
    "- It performs `bitwise NOT` operation on the operand.\n",
    "- It returns the `complement` of the number.\n",
    "- `~1 = 0`, `~0 = 1`."
   ]
  }
 ],
 "metadata": {
  "custom": {
   "line-height": "3.6"
  },
  "kernelspec": {
   "display_name": "Python 3",
   "language": "python",
   "name": "python3"
  },
  "language_info": {
   "codemirror_mode": {
    "name": "ipython",
    "version": 3
   },
   "file_extension": ".py",
   "mimetype": "text/x-python",
   "name": "python",
   "nbconvert_exporter": "python",
   "pygments_lexer": "ipython3",
   "version": "3.13.1"
  }
 },
 "nbformat": 4,
 "nbformat_minor": 2
}
