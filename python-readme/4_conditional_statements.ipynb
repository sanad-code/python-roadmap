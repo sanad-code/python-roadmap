{
 "cells": [
  {
   "cell_type": "code",
   "execution_count": 5,
   "metadata": {},
   "outputs": [
    {
     "data": {
      "application/javascript": "\nvar style = document.createElement('style');\nstyle.type = 'text/css';\nstyle.innerHTML = `\n    .jp-RenderedHTMLCommon {\n        line-height: 10.5; /* Adjust this value as needed */\n    }\n\n    body {\n        line-height: 10.5; /* Adjust this value as needed */\n    }\n`;\ndocument.head.appendChild(style);\n",
      "text/plain": [
       "<IPython.core.display.Javascript object>"
      ]
     },
     "metadata": {},
     "output_type": "display_data"
    }
   ],
   "source": [
    "from IPython.display import display, Javascript\n",
    "\n",
    "# JavaScript to inject CSS for line height adjustment\n",
    "js_code = \"\"\"\n",
    "var style = document.createElement('style');\n",
    "style.type = 'text/css';\n",
    "style.innerHTML = `\n",
    "    .jp-RenderedHTMLCommon {\n",
    "        line-height: 10.5; /* Adjust this value as needed */\n",
    "    }\n",
    "\n",
    "    body {\n",
    "        line-height: 10.5; /* Adjust this value as needed */\n",
    "    }\n",
    "`;\n",
    "document.head.appendChild(style);\n",
    "\"\"\"\n",
    "\n",
    "# Execute the JavaScript\n",
    "display(Javascript(js_code))"
   ]
  },
  {
   "cell_type": "markdown",
   "metadata": {},
   "source": [
    "# Test Markdown Cell\n",
    "\n",
    "This is a paragraph in a markdown cell. The line height should now be adjusted.\n",
    "\n",
    "Another line of text in the same paragraph to demonstrate the line height adjustment."
   ]
  },
  {
   "cell_type": "markdown",
   "metadata": {},
   "source": [
    "# Welcome to Conditional Statements 🤗 🌿\n",
    "\n",
    "#### Go back to [Assignment Operator 🔙](./3_assignment_operators.ipynb) \n",
    "\n",
    "## What we will discuss in this section 🧐🤔\n",
    "\n",
    "- Conditional statements if, elif, else\n",
    "- Operators related to conditional statements\n",
    "  1. Comparison/Relational Operators\n",
    "  2. Logical Operators\n",
    "  3. Bitwise Operators\n",
    "  4. Identity Operators"
   ]
  }
 ],
 "metadata": {
  "custom": {
   "line-height": "3.6"
  },
  "kernelspec": {
   "display_name": "Python 3",
   "language": "python",
   "name": "python3"
  },
  "language_info": {
   "codemirror_mode": {
    "name": "ipython",
    "version": 3
   },
   "file_extension": ".py",
   "mimetype": "text/x-python",
   "name": "python",
   "nbconvert_exporter": "python",
   "pygments_lexer": "ipython3",
   "version": "3.13.1"
  }
 },
 "nbformat": 4,
 "nbformat_minor": 2
}
