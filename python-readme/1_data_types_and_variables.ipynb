{
 "cells": [
  {
   "cell_type": "markdown",
   "metadata": {},
   "source": [
    "## Why Learning Python is Important?\n",
    "\n",
    "<img src=\"imgs/python.png\" width=1000 height=auto>\n",
    "\n",
    "- Python is designed to be easy to use.\n",
    "- Python is a high-level, interpreted, interactive and object-oriented scripting language.\n",
    "- Python is designed to be highly readable.\n",
    "- Python is a very popular language for web development.\n",
    "- Python is a versatile language.\n",
    "- Python is a great language for the beginner-level and advanced-level programmers.\n",
    "\n",
    "## What you can do with Python\n",
    "\n",
    "<img src=\"imgs/python_usages.jpg\" width=1000 height=auto>\n",
    "\n",
    "- Python is used for developing desktop GUI applications, websites, and web applications.\n",
    "- Python is used for web scraping, data analysis, artificial intelligence, machine learning and scientific computing.\n",
    "- Python is used for developing Ethical Hacking and Cybersecurity applications.\n",
    "- Python is used for compatitive programming.\n",
    "- Python is used for developing games and 3D graphics applications.\n",
    "- Python is used for developing network programming applications.\n",
    "- Python is used for developing Internet of Things (IoT) applications.\n",
    "- Python is used for developing Robotics applications.\n"
   ]
  },
  {
   "cell_type": "markdown",
   "metadata": {},
   "source": [
    "\n",
    "# Welcome to Data Type and Variables in Python\n",
    "\n",
    "\n",
    "#### Section content:\n",
    "\n",
    "- `Literals`: Literals are data used for representing fixed values.\n",
    "- `Variables`: Variables and assignment (Variable naming, Variable assignment, Multiple assignment).\n",
    "- `Dynamic Typing`: Python is a dynamically typed language.\n",
    "- `Data Types`: Numeric, Sequence, Set, Dictionary.\n",
    "- `Conversion`: Implicit conversion, Explicit conversion.\n",
    "- `Reading Input`: Reading input from the user.\n",
    "  "
   ]
  },
  {
   "cell_type": "markdown",
   "metadata": {},
   "source": [
    "## Literals in Python\n",
    "\n",
    "- Literals are data used for representing fixed values.\n",
    "- Literals are used to represent strings, numbers, and boolean values.\n",
    "- Literals are used to represent fixed values, they are not variables.\n",
    "\n",
    "### Analyze these text\n",
    "\n",
    "- Learning Python is a great way to start programming. `Learning is a string`\n",
    "- I have 16 years of experience in programming. `16 is integer`\n",
    "- It costs me 20.5 EGP to buy a cup of coffee. `20.5 is float`\n",
    "- Are you Egyption? Yes / No `Yes/No is boolean`\n",
    "\n",
    "### Diffrent Integer Representations\n",
    "\n",
    "- `Decimal`: 0, 1, 2, 3, 4, 5, 6, 7, 8, 9, ...\n",
    "- `Binary`: 0b or 0B followed by 0 or 1 (0b10, 0b11, 0b100, 0b101, ...).\n",
    "- `Octal`: 0o or 0O followed by 0 to 7 (0o10, 0o11, 0o12, 0o13, ...).\n",
    "- `Hexadecimal`: 0x or 0X followed by 0 to 9 and A to F (0x10, 0x11, 0x12, 0x13, ...).\n",
    "- `Underscore`: You can use underscore to make the number more readable (1_000_000, 1_000_000_000, ...).\n",
    "- `Scientific Notation`: 1.5E2 is same as 1.5 * 10^2 is same as 150.0."
   ]
  },
  {
   "cell_type": "code",
   "execution_count": 13,
   "metadata": {},
   "outputs": [
    {
     "name": "stdout",
     "output_type": "stream",
     "text": [
      "1. num value:  8\n",
      "2. num value:  8\n",
      "3. num value:  8\n",
      "4. num value:  8\n"
     ]
    }
   ],
   "source": [
    "num = 8\n",
    "print('1. num value: ', num) # output: 8\n",
    "\n",
    "num = 0b1000\n",
    "print('2. num value: ', num) # output: 8\n",
    "\n",
    "num = 0o10\n",
    "print('3. num value: ', num) # output: 8\n",
    "\n",
    "num = 0x8\n",
    "print('4. num value: ', num) # output: 8"
   ]
  },
  {
   "cell_type": "markdown",
   "metadata": {},
   "source": [
    "<img src=\"imgs/data.png\" width=600 height=auto>\n"
   ]
  },
  {
   "cell_type": "markdown",
   "metadata": {},
   "source": [
    "### Numbers in Math\n",
    "\n",
    "`Number`: A number is a mathematical object used to count, measure, and label.\n",
    "\n",
    "- `Natural Numbers`: 1, 2, 3, 4, 5, 6, 7, 8, 9, 10, ...\n",
    "- `Whole Numbers`: 0, 1, 2, 3, 4, 5, 6, 7, 8, 9, 10, ...\n",
    "- `Integers`: -3, -2, -1, 0, 1, 2, 3, ...\n",
    "- `Rational Numbers`: 1/2, 2/3, 3/4, 4/5, ...\n",
    "- `Real Numbers`: 1.5, 2.5, 3.5, 4.5, ...\n",
    "- `Complex Numbers`: 1 + 2j, 2 + 3j, 3 + 4j, ...\n",
    "- `Imaginary Numbers`: 1j, 2j, 3j, 4j, ...\n",
    "- `Binary Numbers`: 0, 1, 10, 11, 100, 101, 110, 111, 1000, ..."
   ]
  },
  {
   "cell_type": "markdown",
   "metadata": {},
   "source": [
    "## Variables\n",
    "\n",
    "<img src=\"imgs/variable.png\" width=600 height=auto>\n"
   ]
  },
  {
   "cell_type": "code",
   "execution_count": 19,
   "metadata": {},
   "outputs": [
    {
     "name": "stdout",
     "output_type": "stream",
     "text": [
      "Moataz\n",
      "Moataz Sanad\n",
      "Hello Moataz Sanad\n"
     ]
    }
   ],
   "source": [
    "# Pattern is variable_name = value\n",
    "first_name = \"Moataz\"\n",
    "last_name = 'Sanad'\n",
    "\n",
    "# We can print the value of the variable using the print function\n",
    "print(first_name)\n",
    "\n",
    "# We can print multiple variables in the same print function\n",
    "print(first_name, last_name)\n",
    "\n",
    "# We can concatenate the variables with strings. \n",
    "# string concatenation using the + operator is bad practice, we will see a better way to do it later\n",
    "print(\"Hello \" + first_name + \" \" + last_name)\n",
    "\n",
    "# String and integer can't be concatenated in python\n",
    "# print(first_name + \" \" + last_name + 30) # This will raise an error\n"
   ]
  },
  {
   "cell_type": "markdown",
   "metadata": {},
   "source": [
    "### How this works?\n",
    "\n",
    "```python\n",
    "first_name = \"Moataz\"\n",
    "```\n",
    "\n",
    "- `Variable naming / Declaration (first_name)`: is a container that holds data, it actually stores the memory address of the data.\n",
    "- `Variable assignment / initialization (first_name = \"Moataz\")`: is the process of storing data in a variable.\n",
    "- `\"Moataz\"`: is a string literal, it's a fixed value. This is the data that resides in the memory.\n",
    "\n",
    "**Every thing in Python is an object, and every object has a memory address.**\n",
    "\n",
    "Follow This Example:\n",
    "\n",
    "Lets assume we have empty memory, and we want to store the first name and last name in the memory.\n",
    "\n",
    "| Variable Name | Memory Location     | Literal Value |\n",
    "|---------------|---------------------|---------------|\n",
    "|     |   |       |\n",
    "|      |   |      |\n",
    "\n",
    "Excuting `first_name = \"Moataz\"` will store the memory address of the string `\"Moataz\"` in the variable `first_name`.\n",
    "\n",
    "| Variable Name | Memory Location     | Literal Value |\n",
    "|---------------|---------------------|---------------|\n",
    "| first_name    | 0x0000000000000001  | \"Moataz\"      |\n",
    "|     |   |      |\n",
    "\n",
    "Excuting `last_name = \"Sanad\"` will store the memory address of the string `\"Sanad\"` in the variable `last_name`.\n",
    "\n",
    "| Variable Name | Memory Location     | Literal Value |\n",
    "|---------------|---------------------|---------------|\n",
    "| first_name    | 0x0000000000000001  | \"Moataz\"      |\n",
    "| last_name     | 0x0000000000000010  | \"Sanad\"     |\n",
    "\n",
    "\n"
   ]
  },
  {
   "cell_type": "code",
   "execution_count": 2,
   "metadata": {},
   "outputs": [
    {
     "name": "stdout",
     "output_type": "stream",
     "text": [
      "1. Moataz Moataz\n",
      "2. Moataz Sanad\n",
      "3. 30 100.5 True\n"
     ]
    }
   ],
   "source": [
    "### Declaring multiple variables in the same line\n",
    "# Pattern 1 is variable_name1 = variable_name2 = value\n",
    "first_name = last_name = \"Moataz\"\n",
    "print('1.',first_name, last_name)\n",
    "\n",
    "# Pattern 2 is variable_name1, variable_name2 = value1, value2\n",
    "first_name, last_name = \"Moataz\", \"Sanad\"\n",
    "print('2.',first_name, last_name)\n",
    "\n",
    "# Values can be of any type\n",
    "age, price, is_student = 30, 100.5, True\n",
    "print('3.',age, price, is_student)\n",
    "\n"
   ]
  },
  {
   "cell_type": "markdown",
   "metadata": {},
   "source": [
    "### Variable Naming in Python\n",
    "\n",
    "- **Variable names should be descriptive and meaningful VERY IMPORTANT**.\n",
    "- Variable names (Identifiers) can contain letters, numbers, and underscores.\n",
    "- Variable names can start with a letter or an underscore.\n",
    "- Python is case-sensitive `age=10` is not same as `Age=10` they are two different variables.\n",
    "- Python uses snake_case for variable names (first_name, last_name, ...).\n",
    "- Python `keywords` cannot be used as variable names (if, else, for, while, ...).\n",
    "- Variables must be initialized with a value before they are used. `first_name` will raise an error.\n",
    "- Variable names should not start with a number.\n",
    "- Variable names should not contain spaces.\n",
    "- Variable names should not contain special characters (!, @, #, $, %, ...)."
   ]
  },
  {
   "cell_type": "code",
   "execution_count": 29,
   "metadata": {},
   "outputs": [
    {
     "name": "stdout",
     "output_type": "stream",
     "text": [
      "1\n"
     ]
    }
   ],
   "source": [
    "number1=1\n",
    "print(number1)"
   ]
  },
  {
   "cell_type": "markdown",
   "metadata": {},
   "source": [
    "## Dynamic Typing in Python\n",
    "\n",
    "Dynamic means `changeable` not fixed.\n",
    "\n",
    "- Python is a dynamically typed language. This means that the type of the variable is determined at runtime.\n",
    "- `The type of the variable is determined by the value assigned to it`.\n",
    "- You can change the type of the variable by assigning a new value to it.\n",
    "- You can use the `type()` function to get the type of the variable.\n",
    "- You can use the `id()` function to get the memory address of the variable.\n",
    "- You can use the `is` operator to check if two variables are pointing to the same memory address.\n",
    "  \n",
    "Example:\n",
    "\n",
    "```python\n",
    "# first_name is a string, because it takes the type of the value assigned to it\n",
    "first_name = \"Moataz\"\n",
    "\n",
    "# now first_name is an integer, because it takes the type of the value assigned to it\n",
    "first_name = 10\n",
    "``` "
   ]
  },
  {
   "cell_type": "code",
   "execution_count": 30,
   "metadata": {},
   "outputs": [
    {
     "name": "stdout",
     "output_type": "stream",
     "text": [
      "1. age value:  30\n",
      "2. age data type class:  <class 'int'>\n",
      "3. age memory address:  140715715267928\n",
      "4. is_student value:  True\n",
      "5. is_student data type class:  <class 'bool'>\n",
      "6. is_student memory address:  140715714466320\n",
      "7. Is age and is_student have the same memory address?  False\n",
      "8. price value:  30\n",
      "9. Is price and age have the same memory address?  True\n"
     ]
    }
   ],
   "source": [
    "# initializing a variable with a value\n",
    "age = 30\n",
    "print('1. age value: ', age) # output: 30\n",
    "\n",
    "# age data type\n",
    "type_of_age = type(age)\n",
    "print('2. age data type class: ', type_of_age) # output: <class 'int'>\n",
    "\n",
    "# age actual memory address\n",
    "age_memory_address = id(age)\n",
    "print('3. age memory address: ', age_memory_address) # output: 140732674000512\n",
    "\n",
    "# initializing a variable with a value\n",
    "is_student = True\n",
    "\n",
    "# is_student value\n",
    "print('4. is_student value: ', is_student) # output: True\n",
    "# is_student data type\n",
    "print('5. is_student data type class: ', type(is_student)) # output: <class 'bool'>\n",
    "# is_student actual memory address\n",
    "print('6. is_student memory address: ', id(is_student)) # output: 140732674000510\n",
    "\n",
    "# check if the age and is_student variables have the same memory address using is operator\n",
    "is_same_memory_address = age is is_student\n",
    "print('7. Is age and is_student have the same memory address? ', is_same_memory_address) # output: False\n",
    "\n",
    "# initializing a variable with another variable\n",
    "price = age\n",
    "print('8. price value: ', price) # output: 30\n",
    "is_same_memory_address = price is age\n",
    "print('9. Is price and age have the same memory address? ', is_same_memory_address) # output: True\n"
   ]
  },
  {
   "cell_type": "markdown",
   "metadata": {},
   "source": [
    "## Data Types in Python \n",
    "\n",
    "**Make sure you can easily memorize these data types and their categories.** This is very important🚨.\n",
    "\n",
    "<img src=\"imgs/python_data_types.png\" width=800 height=auto>\n",
    "\n",
    "\n",
    "   \n"
   ]
  },
  {
   "cell_type": "markdown",
   "metadata": {},
   "source": [
    "### Numeric Data Types\n",
    "\n",
    "#### Integer `int`: \n",
    "  - Integer numbers (1, 2, 3, -400, -55). **There is no limit on the size of an integer in Python**. `Every thing in Python is an object`.\n",
    "  - This is not the case in other programming languages like C, C++, Java, ... where the size of the integer is fixed.\n",
    "  - Values in python are immutable, you can't change the value of an integer. `x = 10` will create a new integer object with the value 10.\n",
    "\n",
    "#### Float `float`:\n",
    "  - Floating-point numbers (1.5, 2.5, 3.5, -4.5, -5.5). Called float because the decimal point can float.\n",
    "  - Values in python are immutable, you can't change the value of a float. `x = 10.5` will create a new float object with the value 10.5.\n",
    "\n",
    "##### Understand the floating representation in Python\n",
    "\n",
    "  - `10.05` is same as `0.1005 * 100` is same as `0.1005 * 10^2` is same as `0.1005E2`. E2 is the exponent of 10.\n",
    "  - This is called `Scientific Notation` or `Exponential Notation`.\n",
    "  - This is not same as e in math, e is a constant value 2.71828.\n",
    "  - `10.05` is same as `1005 / 100` is same as `1005 / 10^2` is same as `1005 * 10^-2` is same as `1005E-2`.\n",
    "  - So multiply by positive exponent will move the decimal point to the right, and multiply by negative exponent will move the decimal point to the left.\n",
    "  - **Equality of floating-point numbers is not always guaranteed due to the way they are stored in memory**.\n",
    "\n",
    "#### Boolean `bool`:\n",
    "  - Boolean values (True, False). Used in conditional statements.\n",
    "  - Consider it as asking a question, the answer is either True (Yes/Right) or False(No/Wrong).\n",
    "  - True is equal to 1, False is equal to 0. Thats why you can use True and False in arithmetic operations.\n",
    "  - True and False are capitalized, true and false are not recognized in Python.\n",
    "  - Boolean values are immutable, you can't change the value of a boolean. `x = True` will create a new boolean object with the value True.\n",
    "\n",
    "\n",
    "\n"
   ]
  },
  {
   "cell_type": "code",
   "execution_count": 31,
   "metadata": {},
   "outputs": [
    {
     "name": "stdout",
     "output_type": "stream",
     "text": [
      "1. num value:  1\n",
      "2. num data type class:  <class 'int'>\n",
      "3. num size in bytes:  28\n",
      "4. num value:  123137164728457236482734627346273462734\n",
      "5. num data type class:  <class 'int'>\n",
      "6. num size in bytes:  44\n",
      "7. num value:  1.5\n",
      "8. num data type class:  <class 'float'>\n",
      "9. num size in bytes:  24\n",
      "10. num value:  10.05\n",
      "11. num value:  10.05\n",
      "12. num value:  10.05\n",
      "13. num value:  10.05\n",
      "14. is_student value:  True\n",
      "15. is_student data type class:  <class 'bool'>\n",
      "16. addition value:  2\n",
      "17. casting is_student to int:  1\n",
      "18. casting 0 to bool:  False\n",
      "20. This will be printed\n"
     ]
    }
   ],
   "source": [
    "# Examples of Numeric Data Types\n",
    "# int\n",
    "num = 1\n",
    "print('1. num value: ', num) # output: 1\n",
    "print('2. num data type class: ', type(num)) # output: <class 'int'>\n",
    "print('3. num size in bytes: ', num.__sizeof__()) # output: 28\n",
    "\n",
    "num = 123137164728457236482734627346273462734\n",
    "print('4. num value: ', num) # output: 123137164728457236482734627346273462734\n",
    "print('5. num data type class: ', type(num)) # output: <class 'int'>\n",
    "print('6. num size in bytes: ', num.__sizeof__()) # output: 44\n",
    "\n",
    "# float\n",
    "num = 1.5\n",
    "print('7. num value: ', num) # output: 1.5\n",
    "print('8. num data type class: ', type(num)) # output: <class 'float'>\n",
    "print('9. num size in bytes: ', num.__sizeof__()) # output: 24\n",
    "\n",
    "num = 10.05\n",
    "print('10. num value: ', num) # output: 10.05\n",
    "num = 0.1005 * 100\n",
    "print('11. num value: ', num) # output: 10.05\n",
    "num = 0.1005 * 10**2\n",
    "print('12. num value: ', num) # output: 10.05\n",
    "num = 0.1005E2\n",
    "print('13. num value: ', num) # output: 10.05\n",
    "\n",
    "# bool\n",
    "is_student = True\n",
    "print('14. is_student value: ', is_student) # output: True\n",
    "print('15. is_student data type class: ', type(is_student)) # output: <class 'bool'>\n",
    "\n",
    "addition = is_student + 1\n",
    "print('16. addition value: ', addition) # output: 2\n",
    "print('17. casting is_student to int: ', int(is_student)) # output: 1\n",
    "print('18. casting 0 to bool: ', bool(0)) # output: False\n",
    "\n",
    "if(0):\n",
    "    print('19. This will not be printed')\n",
    "\n",
    "if(1):\n",
    "    print('20. This will be printed')\n",
    "\n",
    "\n",
    "\n"
   ]
  },
  {
   "cell_type": "markdown",
   "metadata": {},
   "source": [
    "## Conversion in Python\n",
    "\n",
    "### Type Conversion\n",
    "\n",
    "- `Implicit Conversion`: Python automatically converts the data type of the variable.\n",
    "- `Explicit Conversion`: You can convert the data type of the variable manually.\n",
    "\n",
    "### Implicit Conversion\n",
    "\n",
    "- Python automatically converts the data type of the variable.\n",
    "- This is done when you perform an operation between two different data types.\n",
    "- The data type of the result will be the data type of the most precise operand.\n",
    "\n",
    "```python\n",
    "# Implicit Conversion\n",
    "x = 10\n",
    "y = 20.5\n",
    "z = x + y\n",
    "print(z) # 30.5\n",
    "```\n",
    "\n",
    "### Explicit Conversion\n",
    "\n",
    "- You can convert the data type of the variable manually.\n",
    "- This is done using the built-in functions `int()`, `float()`, `str()`, `bool()`.\n",
    "- You can convert a string to an integer, a string to a float, an integer to a string, a float to a string, a boolean to an integer, a boolean to a string, ...\n",
    "- In summary you can convert any data type `int, float, str, bool` to any other data type `int, float, str, bool`.\n",
    "\n",
    "```python\n",
    "# Explicit Conversion\n",
    "x = 10\n",
    "y = 20.5\n",
    "z = x + int(y)\n",
    "print(z) # 30\n",
    "```\n",
    "\n",
    "### Conversion Functions\n",
    "\n",
    "- `int()`: Convert a value to an integer.\n",
    "- `float()`: Convert a value to a float.\n",
    "- `str()`: Convert a value to a string.\n",
    "- `bool()`: Convert a value to a boolean.\n",
    "\n",
    "\n",
    "### Base Conversion\n",
    "\n",
    "- `bin()`: Convert a value to a binary number.\n",
    "- `oct()`: Convert a value to an octal number.\n",
    "- `hex()`: Convert a value to a hexadecimal number.\n",
    "\n",
    "```python\n",
    "# Base Conversion\n",
    "x = 10\n",
    "print(bin(x)) # 0b1010\n",
    "print(oct(x)) # 0o12\n",
    "print(hex(x)) # 0xa\n",
    "```\n"
   ]
  },
  {
   "cell_type": "markdown",
   "metadata": {},
   "source": [
    "## Reading Input in Python\n",
    "\n",
    "- You can read input from the user using the `input()` function.\n",
    "- The `input()` function always returns a string.\n",
    "- You can convert the string to an integer, a float, a boolean, ..."
   ]
  },
  {
   "cell_type": "code",
   "execution_count": 32,
   "metadata": {},
   "outputs": [
    {
     "name": "stdout",
     "output_type": "stream",
     "text": [
      "Hello Mohamed\n"
     ]
    }
   ],
   "source": [
    "# Reading input from the user\n",
    "name = input('Enter your name: ')\n",
    "print('Hello', name)"
   ]
  },
  {
   "cell_type": "markdown",
   "metadata": {},
   "source": [
    "### Reading multiple values\n",
    "\n",
    "- You can read multiple values from the user using the `input()` function.\n",
    "- You can use the `split()` function to split the input string into multiple values.\n",
    "- You can use the `map()` function to convert the values to integers, floats, ..."
   ]
  },
  {
   "cell_type": "code",
   "execution_count": 36,
   "metadata": {},
   "outputs": [
    {
     "name": "stdout",
     "output_type": "stream",
     "text": [
      "Your age is 10\n",
      "Sum of the two numbers: 50\n",
      "Sum of the two numbers: 40.0\n",
      "Hello Moataz Your age is 10\n",
      "Sum of the two numbers: 3\n"
     ]
    }
   ],
   "source": [
    "# Reading integer input from the user\n",
    "age = int(input('Enter your age: '))\n",
    "print('Your age is', age)\n",
    "\n",
    "# Reading multiple integer inputs from the user\n",
    "# The input should be separated by a space\n",
    "num1, num2 = map(int, input('Enter two numbers: ').split())\n",
    "print('Sum of the two numbers:', num1 + num2)\n",
    "\n",
    "# Reading multiple float inputs from the user\n",
    "num1, num2 = map(float, input('Enter two numbers: ').split())\n",
    "print('Sum of the two numbers:', num1 + num2)\n",
    "\n",
    "# Reading multiple string inputs from the user\n",
    "name, age = input('Enter your name and age: ').split()\n",
    "print('Hello', name, 'Your age is', age)\n",
    "\n",
    "# Reading multiple integers not on the same line\n",
    "# User should enter the first number and press enter, then enter the second number and press enter\n",
    "# If user enters the two numbers on the same line, the program will raise an error, because the input will be considered as a single string that can't be converted to int  \n",
    "num1 = int(input('Enter the first number: '))\n",
    "num2 = int(input('Enter the second number: '))\n",
    "print('Sum of the two numbers:', num1 + num2)"
   ]
  }
 ],
 "metadata": {
  "kernelspec": {
   "display_name": "Python 3",
   "language": "python",
   "name": "python3"
  },
  "language_info": {
   "codemirror_mode": {
    "name": "ipython",
    "version": 3
   },
   "file_extension": ".py",
   "mimetype": "text/x-python",
   "name": "python",
   "nbconvert_exporter": "python",
   "pygments_lexer": "ipython3",
   "version": "3.13.1"
  }
 },
 "nbformat": 4,
 "nbformat_minor": 2
}
