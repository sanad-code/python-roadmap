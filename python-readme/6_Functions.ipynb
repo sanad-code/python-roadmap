{
 "cells": [
  {
   "cell_type": "markdown",
   "metadata": {},
   "source": [
    "# Welcome to Functions in Python 📔\n",
    "\n",
    "#### Go back to [Loops 🔙](./5_Loops.ipynb)\n",
    "\n",
    "## In this section 🧐🤔\n",
    "\n",
    "- What are functions?\n",
    "- How to define a function?\n",
    "- Function arguments, default arguments.\n",
    "- Function return values.\n",
    "- Global and local scope."
   ]
  },
  {
   "cell_type": "markdown",
   "metadata": {},
   "source": [
    "## What are functions? 🤔\n",
    "\n",
    "- It is a block of code that performs a specific task. \n",
    "- It is reusable, written once and can be used multiple times.\n",
    "- It makes the code more organized and easier to read.\n",
    "- It can take parameters and return values."
   ]
  },
  {
   "cell_type": "markdown",
   "metadata": {},
   "source": [
    "## Writing a function in Python 🐍"
   ]
  },
  {
   "cell_type": "code",
   "execution_count": 5,
   "metadata": {},
   "outputs": [],
   "source": [
    "# Simpliest function\n",
    "# Note the indentation\n",
    "def my_function():\n",
    "    print(\"Hello from a function\")\n",
    "    print(\"This is a function\")"
   ]
  },
  {
   "cell_type": "code",
   "execution_count": null,
   "metadata": {},
   "outputs": [],
   "source": [
    "# Function with one parameter\n",
    "def my_function_with_parameter(name):\n",
    "    print(\"Hello, \" + name)"
   ]
  },
  {
   "cell_type": "code",
   "execution_count": null,
   "metadata": {},
   "outputs": [],
   "source": [
    "# Function with parameter and return value\n",
    "def my_function_with_return_value(x):\n",
    "    return 5 * x"
   ]
  },
  {
   "cell_type": "code",
   "execution_count": null,
   "metadata": {},
   "outputs": [],
   "source": [
    "# Function with multiple parameters and no return value\n",
    "def my_function_with_multiple_parameters(name, age):\n",
    "    print(\"Hello, \" + name + \" you are \" + str(age) + \" years old\")\n",
    "    return None"
   ]
  },
  {
   "cell_type": "markdown",
   "metadata": {},
   "source": [
    "🛑 `Writting a function dosen't mean that it will be executed.!` 🛑🤚\n",
    "\n",
    "🚨  It will only be `**executed**` | `**invoked**` when it is `called`. 🚨"
   ]
  },
  {
   "cell_type": "code",
   "execution_count": null,
   "metadata": {},
   "outputs": [],
   "source": [
    "# Runing this script will not print anything\n",
    "def my_function_with_multiple_parameters(name, age):\n",
    "    print(\"Hello, \" + name + \" you are \" + str(age) + \" years old\")\n",
    "    return None"
   ]
  },
  {
   "cell_type": "code",
   "execution_count": 1,
   "metadata": {},
   "outputs": [
    {
     "name": "stdout",
     "output_type": "stream",
     "text": [
      "Hello, Hamada you are 25 years old\n"
     ]
    }
   ],
   "source": [
    "def my_function_with_multiple_parameters(name, age):\n",
    "    print(\"Hello, \" + name + \" you are \" + str(age) + \" years old\")\n",
    "    return None\n",
    "\n",
    "# This is how we call a function\n",
    "my_function_with_multiple_parameters(\"Hamada\",25)"
   ]
  },
  {
   "cell_type": "markdown",
   "metadata": {},
   "source": [
    "## Calling a Function with Arguments name📞"
   ]
  },
  {
   "cell_type": "code",
   "execution_count": 3,
   "metadata": {},
   "outputs": [
    {
     "name": "stdout",
     "output_type": "stream",
     "text": [
      "Hello, Hamada you are 25 years old\n"
     ]
    }
   ],
   "source": [
    "def my_function_with_multiple_parameters(name, age):\n",
    "    print(\"Hello, \" + name + \" you are \" + str(age) + \" years old\")\n",
    "    return None\n",
    "\n",
    "# When passing parameters names order does not matter\n",
    "my_function_with_multiple_parameters(age=25, name=\"Hamada\")\n",
    "\n",
    "# This is wrong don't do it, you did did not provide parameters name and order is wrong\n",
    "# my_function_with_multiple_parameters(25, \"Hamada\")"
   ]
  },
  {
   "cell_type": "markdown",
   "metadata": {},
   "source": [
    "## Calling a Function with default Arguments value 👦"
   ]
  },
  {
   "cell_type": "code",
   "execution_count": 4,
   "metadata": {},
   "outputs": [
    {
     "name": "stdout",
     "output_type": "stream",
     "text": [
      "Hello, Hamada you are 25 years old\n"
     ]
    }
   ],
   "source": [
    "def my_function_with_multiple_parameters(age, name=\"Hamada\"):\n",
    "    print(\"Hello, \" + name + \" you are \" + str(age) + \" years old\")\n",
    "    return None\n",
    "\n",
    "# If parameter name is not provided it will use the default value, default value is optional\n",
    "my_function_with_multiple_parameters(age=25)"
   ]
  },
  {
   "cell_type": "markdown",
   "metadata": {},
   "source": [
    "🛑 Default parameter `must be at the end` of the parameter list. 🛑\n",
    "\n",
    "🛑 Default parameter `value is evaluated only once`. It is not evaluated every time the function is called.🛑"
   ]
  },
  {
   "cell_type": "markdown",
   "metadata": {},
   "source": [
    "## 🌍 Local vs Global Scope 🌍"
   ]
  }
 ],
 "metadata": {
  "kernelspec": {
   "display_name": "Python 3",
   "language": "python",
   "name": "python3"
  },
  "language_info": {
   "codemirror_mode": {
    "name": "ipython",
    "version": 3
   },
   "file_extension": ".py",
   "mimetype": "text/x-python",
   "name": "python",
   "nbconvert_exporter": "python",
   "pygments_lexer": "ipython3",
   "version": "3.13.1"
  }
 },
 "nbformat": 4,
 "nbformat_minor": 2
}
