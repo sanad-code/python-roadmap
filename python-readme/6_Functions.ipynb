{
 "cells": [
  {
   "cell_type": "markdown",
   "metadata": {},
   "source": [
    "# Welcome to Functions in Python 📔\n",
    "\n",
    "#### Go back to [Loops 🔙](./5_Loops.ipynb)\n",
    "\n",
    "## In this section 🧐🤔\n",
    "\n",
    "- What are functions?\n",
    "- How to define a function?\n",
    "- Function arguments, default arguments.\n",
    "- Function return values.\n",
    "- Global and local scope."
   ]
  },
  {
   "cell_type": "markdown",
   "metadata": {},
   "source": [
    "## What are functions? 🤔\n",
    "\n",
    "- It is a block of code that performs a specific task. \n",
    "- It is reusable, written once and can be used multiple times.\n",
    "- It makes the code more organized and easier to read.\n",
    "- It can take parameters and return values."
   ]
  },
  {
   "cell_type": "markdown",
   "metadata": {},
   "source": [
    "## Writing a function in Python 🐍"
   ]
  },
  {
   "cell_type": "code",
   "execution_count": 5,
   "metadata": {},
   "outputs": [],
   "source": [
    "# Simpliest function\n",
    "# Note the indentation\n",
    "def my_function():\n",
    "    print(\"Hello from a function\")\n",
    "    print(\"This is a function\")"
   ]
  },
  {
   "cell_type": "code",
   "execution_count": null,
   "metadata": {},
   "outputs": [],
   "source": [
    "# Function with one parameter\n",
    "def my_function_with_parameter(name):\n",
    "    print(\"Hello, \" + name)"
   ]
  },
  {
   "cell_type": "code",
   "execution_count": null,
   "metadata": {},
   "outputs": [],
   "source": [
    "# Function with parameter and return value\n",
    "def my_function_with_return_value(x):\n",
    "    return 5 * x"
   ]
  },
  {
   "cell_type": "code",
   "execution_count": null,
   "metadata": {},
   "outputs": [],
   "source": [
    "# Function with multiple parameters and no return value\n",
    "def my_function_with_multiple_parameters(name, age):\n",
    "    print(\"Hello, \" + name + \" you are \" + str(age) + \" years old\")\n",
    "    return None"
   ]
  },
  {
   "cell_type": "markdown",
   "metadata": {},
   "source": [
    "🛑 `Writting a function dosen't mean that it will be executed.!` 🛑🤚\n",
    "\n",
    "🚨  It will only be `**executed**` | `**invoked**` when it is `called`. 🚨"
   ]
  },
  {
   "cell_type": "code",
   "execution_count": 7,
   "metadata": {},
   "outputs": [],
   "source": [
    "# Runing this script will not print anything\n",
    "def my_function_with_multiple_parameters(name, age):\n",
    "    print(\"Hello, \" + name + \" you are \" + str(age) + \" years old\")\n",
    "    return None"
   ]
  },
  {
   "cell_type": "code",
   "execution_count": 8,
   "metadata": {},
   "outputs": [
    {
     "name": "stdout",
     "output_type": "stream",
     "text": [
      "Hello, Hamada you are 25 years old\n"
     ]
    }
   ],
   "source": [
    "def my_function_with_multiple_parameters(name, age):\n",
    "    print(\"Hello, \" + name + \" you are \" + str(age) + \" years old\")\n",
    "    return None\n",
    "\n",
    "# This is how we call a function\n",
    "my_function_with_multiple_parameters(\"Hamada\",25)"
   ]
  },
  {
   "cell_type": "code",
   "execution_count": 9,
   "metadata": {},
   "outputs": [
    {
     "name": "stdout",
     "output_type": "stream",
     "text": [
      "15\n"
     ]
    }
   ],
   "source": [
    "def my_function_with_return_value(x):\n",
    "    return 5 * x\n",
    "\n",
    "number = my_function_with_return_value(3)    \n",
    "print(number)"
   ]
  },
  {
   "cell_type": "markdown",
   "metadata": {},
   "source": [
    "## Calling a Function with Arguments name📞"
   ]
  },
  {
   "cell_type": "code",
   "execution_count": 10,
   "metadata": {},
   "outputs": [
    {
     "name": "stdout",
     "output_type": "stream",
     "text": [
      "Hello, Hamada you are 25 years old\n"
     ]
    }
   ],
   "source": [
    "def my_function_with_multiple_parameters(name, age):\n",
    "    print(\"Hello, \" + name + \" you are \" + str(age) + \" years old\")\n",
    "    return None\n",
    "\n",
    "# When passing parameters names order does not matter\n",
    "my_function_with_multiple_parameters(age=25, name=\"Hamada\")\n",
    "\n",
    "# This is wrong don't do it, you did did not provide parameters name and order is wrong\n",
    "# my_function_with_multiple_parameters(25, \"Hamada\")"
   ]
  },
  {
   "cell_type": "markdown",
   "metadata": {},
   "source": [
    "## Calling a Function with default Arguments value 👦"
   ]
  },
  {
   "cell_type": "code",
   "execution_count": 1,
   "metadata": {},
   "outputs": [
    {
     "name": "stdout",
     "output_type": "stream",
     "text": [
      "Hello, Hamada you are 25 years old\n",
      "Hello, Ali you are 25 years old\n"
     ]
    }
   ],
   "source": [
    "def my_function_with_multiple_parameters(age, name=\"Hamada\"):\n",
    "    print(\"Hello, \" + name + \" you are \" + str(age) + \" years old\")\n",
    "    return None\n",
    "\n",
    "# If parameter name is not provided it will use the default value, default value is optional\n",
    "my_function_with_multiple_parameters(age=25)\n",
    "\n",
    "my_function_with_multiple_parameters(age=25, name=\"Ali\")"
   ]
  },
  {
   "cell_type": "markdown",
   "metadata": {},
   "source": [
    "🛑 Default parameter `must be at the end` of the parameter list. 🛑"
   ]
  },
  {
   "cell_type": "code",
   "execution_count": null,
   "metadata": {},
   "outputs": [],
   "source": [
    "# All these are wrong !!!\n",
    "# def my_function_with_multiple_parameters(name=\"Hamada\", age):\n",
    "#     print(\"Hello, \" + name + \" you are \" + str(age) + \" years old\")\n",
    "#     return None\n",
    "\n",
    "# If parameter name is not provided it will use the default value, default value is optional\n",
    "# my_function_with_multiple_parameters(25)\n",
    "# my_function_with_multiple_parameters(,25)"
   ]
  },
  {
   "cell_type": "markdown",
   "metadata": {},
   "source": [
    "🛑 Default parameter `value is evaluated only once`. It is not evaluated every time the function is called.🛑"
   ]
  },
  {
   "cell_type": "code",
   "execution_count": 5,
   "metadata": {},
   "outputs": [
    {
     "name": "stdout",
     "output_type": "stream",
     "text": [
      "[1]\n",
      "[1, 1]\n"
     ]
    }
   ],
   "source": [
    "def my_list(list=[]):\n",
    "    list.append(1)\n",
    "    print(list)\n",
    "\n",
    "my_list()\n",
    "my_list()"
   ]
  },
  {
   "cell_type": "markdown",
   "metadata": {},
   "source": [
    "## 🏠 Local vs Global Scope 🌍"
   ]
  },
  {
   "cell_type": "markdown",
   "metadata": {},
   "source": [
    "## Global Scope 🌍\n",
    "\n",
    "- A variable created outside of a function is `global` and can be used by anyone.\n",
    "- Global is `accessible` from `anywhere` in the code.\n",
    "\n",
    "## Local Scope 🏠\n",
    "\n",
    "- A variable created inside a function is `local` and can only be used inside that function.\n",
    "- Local is `accessible` only from `inside` the function."
   ]
  },
  {
   "cell_type": "code",
   "execution_count": null,
   "metadata": {},
   "outputs": [],
   "source": [
    "def print_number(x):\n",
    "    print(x)\n",
    "    return x + 1;\n",
    "\n",
    "y = print_number(1)\n",
    "print(y)\n",
    "\n",
    "# This is wrong, x is not defined in the global scope\n",
    "print(x)"
   ]
  },
  {
   "cell_type": "code",
   "execution_count": null,
   "metadata": {},
   "outputs": [],
   "source": [
    "x = 10\n",
    "def print_number(x):\n",
    "    print(x)\n",
    "    return x + 1;\n",
    "\n",
    "y = print_number(1)\n",
    "print(y)\n",
    "\n",
    "# This is fine now, it will print 10 because x is defined in the global scope\n",
    "print(x)"
   ]
  },
  {
   "cell_type": "code",
   "execution_count": null,
   "metadata": {},
   "outputs": [],
   "source": [
    "x = 10\n",
    "z = 20\n",
    "def print_number(x):\n",
    "    print(x) # This will print 1, because x is defined in the local scope\n",
    "    print(z) # This will print 20 as local scope can access global scope\n",
    "    return x + 1;\n",
    "\n",
    "y = print_number(1)\n",
    "print(y) # This will print 2\n",
    "\n",
    "# This is fine now, it will print 10 because x is defined in the global scope\n",
    "print(x)"
   ]
  }
 ],
 "metadata": {
  "kernelspec": {
   "display_name": "Python 3",
   "language": "python",
   "name": "python3"
  },
  "language_info": {
   "codemirror_mode": {
    "name": "ipython",
    "version": 3
   },
   "file_extension": ".py",
   "mimetype": "text/x-python",
   "name": "python",
   "nbconvert_exporter": "python",
   "pygments_lexer": "ipython3",
   "version": "3.13.1"
  }
 },
 "nbformat": 4,
 "nbformat_minor": 2
}
