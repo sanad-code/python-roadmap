{
 "cells": [
  {
   "cell_type": "markdown",
   "metadata": {},
   "source": [
    "# Welcome to Lists and Tuples 📚\n",
    "\n",
    "#### Go back to [Functions 🔙](./6_Functions.ipynb)\n",
    "\n",
    "## In this section 🧐🤔\n",
    "\n",
    "- What are lists and tuples?\n",
    "- List and tuple creation\n",
    "- List and tuple operations\n",
    "- List and tuple methods\n",
    "- Nested Lists and Tuples"
   ]
  },
  {
   "cell_type": "markdown",
   "metadata": {},
   "source": [
    "## What are lists and tuples? 🤔\n",
    "\n",
    "- Lists and tuples are collections of items.\n",
    "- Lists and tuples  are one of the most commonly used data structures in Python.\n",
    "- Lists and tuples can store multiple items in a single variable.\n",
    "- Lists and tuples can store items of different data types.\n",
    "- Lists and tuples can store duplicate items.\n",
    "- Lists and tuples can be nested.\n",
    "- Lists and tuples are ordered, indexed, and iterable.\n",
    "- 🛑 `Lists` are `mutable (changeable)` and `tuples` are `immutable (unchangeable)`.🛑\n",
    "- Lists are defined by square brackets `[]` and tuples are defined by parentheses `()`."
   ]
  },
  {
   "cell_type": "markdown",
   "metadata": {},
   "source": []
  },
  {
   "cell_type": "code",
   "execution_count": 2,
   "metadata": {},
   "outputs": [
    {
     "name": "stdout",
     "output_type": "stream",
     "text": [
      "Ahmed Ali Sami Hassan Hussein\n",
      "1354439844624 1354439844768 1354439845056 1354439845296 1354439845008\n",
      "['Ahmed', 'Ali', 'Sami', 'Hassan', 'Hussein']\n",
      "1354440057728\n"
     ]
    }
   ],
   "source": [
    "# Simple Example : Store 5 names Ahmed, Ali, Sami, Hassan, Hussein.\n",
    "\n",
    "# The wrong way to store collection of names ✋🚫👎\n",
    "name1 = 'Ahmed'\n",
    "name2 = 'Ali'\n",
    "name3 = 'Sami'\n",
    "name4 = 'Hassan'\n",
    "name5 = 'Hussein'\n",
    "print(name1, name2, name3, name4, name5)\n",
    "print(id(name1), id(name2), id(name3), id(name4), id(name5)) # These are 5 different memory addresses\n",
    "\n",
    "# The right way to store collection of names 👍👌✅\n",
    "# Simpliest way to create a list\n",
    "list_names = ['Ahmed', 'Ali', 'Sami', 'Hassan', 'Hussein']\n",
    "print(list_names) \n",
    "print(id(list_names)) # Get the memory address of the list, this is one memory address for all names"
   ]
  },
  {
   "cell_type": "markdown",
   "metadata": {},
   "source": [
    "## List Index, Access List ELements 📝\n",
    "\n",
    "| Index | 0 | 1 | 2 | 3 | 4 | \n",
    "| --- | --- | --- | --- | --- | --- |\n",
    "| Element | Amr | Ali | Sara | Aisha | Omar |\n",
    "| Reverse Index | -5 | -4 | -3 | -2 | -1 |"
   ]
  },
  {
   "cell_type": "code",
   "execution_count": 5,
   "metadata": {},
   "outputs": [
    {
     "name": "stdout",
     "output_type": "stream",
     "text": [
      "Amr Omar Omar "
     ]
    }
   ],
   "source": [
    "# We can access the list elements by index\n",
    "# We can use positive index or negative index\n",
    "list_names = ['Amr','Ali','Sara','Aisha','Omar']\n",
    "print(list_names[0],end=' ') # Amr\n",
    "print(list_names[4],end=' ') # Omar\n",
    "\n",
    "# This is like saying get the last element in the list\n",
    "print(list_names[-1],end=' ') # Omar (Negative index starts from the end of the list)\n",
    "# This is like saying get the third element from the end of the list\n",
    "print(list_names[-3],end=' ') # Sara"
   ]
  },
  {
   "cell_type": "markdown",
   "metadata": {},
   "source": [
    "🚨 `IMPORTANT:` **Whe we use `positive index`, we `start from 0`, but when we use `negative index`, we `start from -1`.** 🚨"
   ]
  },
  {
   "cell_type": "markdown",
   "metadata": {},
   "source": [
    "## List accepts multiple data types 📊\n",
    "\n",
    "- This is possible because lists are `heterogeneous` data structures, which means they can store different data types in the same list.\n",
    "- Although it is possible `but it is not recommended` to store different data types in the same list.\n"
   ]
  },
  {
   "cell_type": "code",
   "execution_count": 6,
   "metadata": {},
   "outputs": [
    {
     "name": "stdout",
     "output_type": "stream",
     "text": [
      "[1, 2.5, 'Hello', True, [1, 2, 3]]\n"
     ]
    }
   ],
   "source": [
    "# List with multiple data types\n",
    "my_list = [1, 2.5, \"Hello\", True, [1, 2, 3]]\n",
    "print(my_list)"
   ]
  },
  {
   "cell_type": "markdown",
   "metadata": {},
   "source": [
    "## List are mutable (changeable) 🔄\n",
    "\n",
    "- Lists are `mutable`, which means that you can change the values of the items in a list after it has been created.\n",
    "- You can `change, add, and remove` items in a list.\n",
    "- You can also change the `data type` of the items in a list.\n",
    "- You can also change the `length` of a list by adding or removing items.\n",
    "- You can also change the `order` of items in a list."
   ]
  },
  {
   "cell_type": "code",
   "execution_count": 8,
   "metadata": {},
   "outputs": [
    {
     "name": "stdout",
     "output_type": "stream",
     "text": [
      "['Amr', 'Ali', 'Sara', 'Aisha', 'Omar']\n",
      "['Ahmed', 'Ali', 'Sara', 'Aisha', 'Omar']\n"
     ]
    }
   ],
   "source": [
    "list_names = ['Amr','Ali','Sara','Aisha','Omar']\n",
    "print(list_names) # ['Amr', 'Ali', 'Sara', 'Aisha', 'Omar']\n",
    "\n",
    "list_names[0] = 'Ahmed' # Change the first element in the list\n",
    "print(list_names) # ['Ahmed', 'Ali', 'Sara', 'Aisha', 'Omar']"
   ]
  },
  {
   "cell_type": "markdown",
   "metadata": {},
   "source": [
    "## Adding Items to a List 📝\n",
    "\n",
    "- Operations that `modify the list` are called `in-place` operations.\n",
    "  - You can add items to a list using the `append()`, `insert()`, and `extend()` methods.\n",
    "  - `append()`: Adds an item to the end of the list.\n",
    "  - `extend(iterable)`: Adds the elements of an iterable (list, tuple, string, etc.) to the end of the list.\n",
    "  - `insert(index, item)`: Adds an item at the specified index. \n",
    "- Operations that `do not modify the list but return a new list`.\n",
    "  - You can add items to a list using the `+` operator.\n",
    "  - You can add items to a list using the `*` operator.\n",
    "  - You can add items to a list using the `list comprehension` method.\n",
    "  - You can add items to a list using the `list() constructor`.\n",
    "  - You can add items to a list using the `copy() method`."
   ]
  },
  {
   "cell_type": "code",
   "execution_count": 11,
   "metadata": {},
   "outputs": [
    {
     "name": "stdout",
     "output_type": "stream",
     "text": [
      "[1, 2, 3, 4, 5, 6]\n",
      "[1, 2, 3, 4, 5, 6, 7, 8, 9]\n",
      "[1, 2, 3, 4, 5, 6, 7, 8, 9, [10, 11, 12]]\n",
      "[0, 1, 2, 3, 4, 5, 6, 7, 8, 9]\n",
      "[0, 1, 1.5, 2, 3, 4, 5, 6, 7, 8, 9]\n"
     ]
    }
   ],
   "source": [
    "# The wrong way to add an element to the list ✋🚫👎\n",
    "#         indx[0, 1, 2, 3, 4]\n",
    "number_list = [1, 2, 3, 4, 5]\n",
    "# number_list[5] = 6 # IndexError: list assignment index out of range, DO NOT DO THIS 👎\n",
    "\n",
    "# Using the append method to add an element to the list\n",
    "number_list.append(6)\n",
    "print(number_list) # [1, 2, 3, 4, 5, 6]\n",
    "\n",
    "# number_list.append(6,7,8) # TypeError: append() takes exactly one argument (3 given), DO NOT DO THIS 👎\n",
    "number_list.extend([7, 8, 9])\n",
    "print(number_list) # [1, 2, 3, 4, 5, 6, 7, 8, 9]\n",
    "\n",
    "# The wrong way to add a list to a list ✋🚫👎, this will not generate error but it is wrong\n",
    "number_list.append([10, 11, 12])\n",
    "print(number_list) # [1, 2, 3, 4, 5, 6, 7, 8, 9, [10, 11, 12]]\n",
    "number_list.pop() # Remove the last element, we will talk about this later\n",
    "\n",
    "# Adding at specific index, this will shift the elements to the right and add the element at the specified index\n",
    "# This is not replacement of the element at the specified index, it is just adding the element at the specified index\n",
    "number_list.insert(0, 0)\n",
    "print(number_list) # [0, 1, 2, 3, 4, 5, 6, 7, 8, 9]\n",
    "\n",
    "number_list.insert(2, 1.5)\n",
    "print(number_list) # [0, 1, 1.5, 2, 3, 4, 5, 6, 7, 8, 9]"
   ]
  },
  {
   "cell_type": "code",
   "execution_count": 25,
   "metadata": {},
   "outputs": [
    {
     "name": "stdout",
     "output_type": "stream",
     "text": [
      "[1, 2, 3, 4, 5]\n",
      "[1, 2, 3, 4, 5]\n",
      "1354446181888\n",
      "1354446587584\n",
      "[1, 2, 3, 4, 5, 6, 7, 8]\n",
      "[1, 2, 3, 4, 5, 6, 7, 8, 1, 2, 3, 4, 5, 6, 7, 8]\n",
      "[1, 2, 3, 4, 5]\n",
      "[1, 2, 3, 4, 5]\n",
      "[1, 2, 3, 4, 5]\n",
      "[1, 2, 3, 4, 5]\n",
      "[2, 4]\n",
      "['Odd', 2, 'Odd', 4, 'Odd']\n",
      "[1, 4, 9, 16, 25]\n",
      "[[1, 2, 3, 4, 5], [1, 2, 3, 4, 5], [1, 2, 3, 4, 5]]\n",
      "[[1, 2, 3, 4, 5], [1, 2, 3, 4, 5], [1, 2, 3, 4, 5]]\n"
     ]
    }
   ],
   "source": [
    "# Using + Operator\n",
    "#         indx[0, 1, 2, 3, 4]\n",
    "number_list = [1, 2, 3, 4, 5]\n",
    "print(number_list) # [1, 2, 3, 4, 5]\n",
    "number_list + [6, 7, 8]\n",
    "print(number_list) # [1, 2, 3, 4, 5]\n",
    "\n",
    "print(id(number_list)) # Get the memory address of the list\n",
    "number_list = number_list + [6, 7, 8]\n",
    "print(id(number_list)) # Get the memory address of the list\n",
    "print(number_list) # [1, 2, 3, 4, 5, 6, 7, 8]\n",
    "\n",
    "\n",
    "# Using * Operator\n",
    "number_list = number_list * 2 # we can write this line as number_list *= 2 this is the same\n",
    "print(number_list) # [1, 2, 3, 4, 5, 6, 7, 8, 1, 2, 3, 4, 5, 6, 7, 8]\n",
    "\n",
    "# Using List Constructor\n",
    "number_list = list([1, 2, 3, 4, 5])\n",
    "print(number_list) # [1, 2, 3, 4, 5]\n",
    "number_list = list((1, 2, 3, 4, 5))\n",
    "print(number_list) # [1, 2, 3, 4, 5]\n",
    "number_list = list(range(1, 6))\n",
    "print(number_list) # [1, 2, 3, 4, 5]\n",
    "\n",
    "# Using list comprehension\n",
    "number_list = [i for i in range(1, 6)]\n",
    "print(number_list) # [1, 2, 3, 4, 5]\n",
    "\n",
    "# Using list comprehension with condition\n",
    "number_list = [i for i in range(1, 6) if i % 2 == 0]\n",
    "print(number_list) # [2, 4]\n",
    "\n",
    "# Using if else in list comprehension\n",
    "number_list = [i if i % 2 == 0 else 'Odd' for i in range(1, 6)]\n",
    "print(number_list) # [1, 2, 3, 4, 5]\n",
    "\n",
    "# Using list comprehension with expression\n",
    "number_list = [i**2 for i in range(1, 6)]\n",
    "print(number_list) # [1, 4, 9, 16, 25]\n",
    "\n",
    "# Using nested list comprehension\n",
    "number_list = [[i for i in range(1, 6)] for j in range(3)]\n",
    "print(number_list) # [[1, 2, 3, 4, 5], [1, 2, 3, 4, 5], [1, 2, 3, 4, 5]]\n",
    "\n",
    "# Using Copy Method\n",
    "new_number_list = number_list.copy()\n",
    "print(new_number_list) "
   ]
  },
  {
   "cell_type": "markdown",
   "metadata": {},
   "source": [
    "## Removing Items from a List 📝\n",
    "\n",
    "- You can remove items from a list using the `remove()`, `pop()`, `del`, and `clear()` methods.\n",
    "  - `remove(item)`: Removes the first occurrence of the specified item.\n",
    "  - `pop(index)`: Removes the item at the specified index and returns it.\n",
    "  - `del list[index]`: Removes the item at the specified index.\n",
    "  - `del list[start:stop]`: Removes the items in the specified range.\n",
    "  - `del list`: Deletes the entire list. `Note that the list no longer exists.`\n",
    "  - `clear()`: Removes all items from the list. `Note the list still exists, but it is empty.`"
   ]
  },
  {
   "cell_type": "code",
   "execution_count": 28,
   "metadata": {},
   "outputs": [
    {
     "name": "stdout",
     "output_type": "stream",
     "text": [
      "[1, 2, 3, 4, 5, 2]\n",
      "[1, 3, 4, 5, 2]\n",
      "[1, 3, 4, 5]\n",
      "[1, 4, 5]\n",
      "[]\n"
     ]
    }
   ],
   "source": [
    "number_list = [1, 2, 3, 4, 5 , 2]\n",
    "print(number_list) # [1, 2, 3, 4, 5, 2]\n",
    "\n",
    "number_list.remove(2) # Remove the first occurrence of the element\n",
    "print(number_list) # [1, 3, 4, 5, 2]\n",
    "\n",
    "number_list.pop() # Remove the last element\n",
    "print(number_list) # [1, 3, 4, 5]\n",
    "\n",
    "number_list.pop(1) # Remove the element at the specified index\n",
    "print(number_list) # [1, 4, 5]\n",
    "\n",
    "number_list.clear() # Remove all elements from the list\n",
    "print(number_list) # []\n",
    "\n",
    "del number_list # Delete the list, no longer exists\n",
    "# print(number_list) # NameError: name 'number_list' is not defined"
   ]
  },
  {
   "cell_type": "markdown",
   "metadata": {},
   "source": [
    "## List Searching / Finding Items 🔍\n",
    "\n",
    "- You can search for items in a list using the `in` and `not in` operators.\n",
    "- You can search for items in a list using the `index()` method.\n",
    "- You can search for items in a list using the `count()` method."
   ]
  },
  {
   "cell_type": "code",
   "execution_count": 33,
   "metadata": {},
   "outputs": [
    {
     "name": "stdout",
     "output_type": "stream",
     "text": [
      "Yes, 2 is in the list\n",
      "No, 6 is not in the list\n",
      "Yes, 6 is not in the list\n",
      "1\n",
      "2\n",
      "0\n",
      "0\n"
     ]
    }
   ],
   "source": [
    "numbers_list = [1, 2, 3, 4, 5, 2]\n",
    "\n",
    "if 2 in numbers_list:\n",
    "    print('Yes, 2 is in the list')\n",
    "else:\n",
    "    print('No, 2 is not in the list')\n",
    "\n",
    "if 6 in numbers_list:\n",
    "    print('Yes, 6 is in the list')\n",
    "else:\n",
    "    print('No, 6 is not in the list')\n",
    "\n",
    "if 6 not in numbers_list:\n",
    "    print('Yes, 6 is not in the list')\n",
    "else:\n",
    "    print('No, 6 is in the list')\n",
    "\n",
    "\n",
    "# Using index method\n",
    "print(numbers_list.index(2)) # 1 Note: This will return the first occurrence of the element\n",
    "# print(numbers_list.index(6)) # This will not return -1 like other languages this will return ValueError: 6 is not in list\n",
    "\n",
    "# Using count method\n",
    "print(numbers_list.count(2)) # 2\n",
    "print(numbers_list.count(6)) # 0\n",
    "\n",
    "# Getting the last index of the element\n",
    "print(numbers_list[::-1].index(2)) # We will talk about this later\n",
    "\n"
   ]
  },
  {
   "cell_type": "markdown",
   "metadata": {},
   "source": [
    "## Iterating Over a List 🔄\n",
    "\n",
    "Iterating over a list means visiting each item in the list one by one.\n",
    "\n",
    "- You can iterate over a list using a `for loop`.\n",
    "- You can iterate over a list using a `while loop`.\n",
    "- You can iterate over a list using a `for loop with range()`."
   ]
  },
  {
   "cell_type": "code",
   "execution_count": 39,
   "metadata": {},
   "outputs": [
    {
     "name": "stdout",
     "output_type": "stream",
     "text": [
      "[1, 2, 3, 4, 5]\n",
      "1 2 3 4 5 \n",
      "5\n",
      "1 2 3 4 5 \n",
      "(0, 1) (1, 2) (2, 3) (3, 4) (4, 5) "
     ]
    }
   ],
   "source": [
    "numbers_list = [1, 2, 3, 4, 5]\n",
    "print(numbers_list) # [1, 2, 3, 4, 5]   \n",
    "\n",
    "# Using for loop\n",
    "for number in numbers_list:\n",
    "    print(number, end=' ')\n",
    "\n",
    "# Using while loop\n",
    "print()\n",
    "print(len(numbers_list)) # This function returns the number of elements in the list which is 5\n",
    "i = 0\n",
    "while i < len(numbers_list):\n",
    "    print(numbers_list[i], end=' ')\n",
    "    i += 1\n",
    "\n",
    "# Using for loop with range\n",
    "print()\n",
    "for i in range(len(numbers_list)):\n",
    "    print((i,numbers_list[i]), end=' ')\n"
   ]
  },
  {
   "cell_type": "markdown",
   "metadata": {},
   "source": [
    "## List Slicing 🍰\n",
    "\n",
    "- Slicing is a way to extract a subset of items from a list.\n",
    "- You can slice a list using the `start`, `stop`, and `step` parameters.\n",
    "- You can slice a list using the `reverse index`.\n",
    "- You can slice a list using the `slice()` function.\n"
   ]
  },
  {
   "cell_type": "code",
   "execution_count": 40,
   "metadata": {},
   "outputs": [
    {
     "name": "stdout",
     "output_type": "stream",
     "text": [
      "['Amr', 'Ali', 'Sara', 'Aisha', 'Omar']\n",
      "['Amr', 'Ali', 'Sara']\n",
      "['Ali', 'Sara']\n",
      "['Ali', 'Sara', 'Aisha', 'Omar']\n",
      "['Amr', 'Ali', 'Sara']\n",
      "['Amr', 'Ali', 'Sara', 'Aisha', 'Omar']\n"
     ]
    }
   ],
   "source": [
    "# Using positive index\n",
    "names_list = ['Amr', 'Ali', 'Sara', 'Aisha', 'Omar']\n",
    "print(names_list) # ['Amr', 'Ali', 'Sara', 'Aisha', 'Omar']\n",
    "\n",
    "print(names_list[0:3]) # ['Amr', 'Ali', 'Sara']\n",
    "print(names_list[1:3]) # ['Ali', 'Sara']\n",
    "print(names_list[1:]) # ['Ali', 'Sara', 'Aisha', 'Omar']\n",
    "print(names_list[:3]) # ['Amr', 'Ali', 'Sara']\n",
    "print(names_list[:]) # ['Amr', 'Ali', 'Sara', 'Aisha', 'Omar']"
   ]
  },
  {
   "cell_type": "code",
   "execution_count": null,
   "metadata": {},
   "outputs": [],
   "source": [
    "# Using negative index\n",
    "names_list = ['Amr', 'Ali', 'Sara', 'Aisha', 'Omar']\n",
    "print(names_list) # ['Amr', 'Ali', 'Sara', 'Aisha', 'Omar']\n",
    "\n",
    "print(names_list[-3:-1]) # ['Sara', 'Aisha']\n",
    "print(names_list[-3:]) # ['Sara', 'Aisha', 'Omar']\n",
    "print(names_list[:-1]) # ['Amr', 'Ali', 'Sara', 'Aisha']\n",
    "print(names_list[:]) # ['Amr', 'Ali', 'Sara', 'Aisha', 'Omar']"
   ]
  },
  {
   "cell_type": "code",
   "execution_count": null,
   "metadata": {},
   "outputs": [],
   "source": [
    "# Using positive step\n",
    "names_list = ['Amr', 'Ali', 'Sara', 'Aisha', 'Omar']\n",
    "print(names_list) # ['Amr', 'Ali', 'Sara', 'Aisha', 'Omar']\n",
    "\n",
    "print(names_list[0:5:2]) # ['Amr', 'Sara', 'Omar']\n",
    "print(names_list[0:5:3]) # ['Amr', 'Aisha']\n",
    "print(names_list[::2]) # ['Amr', 'Sara', 'Omar']\n",
    "print(names_list[::]) # ['Amr', 'Ali', 'Sara', 'Aisha', 'Omar']\n"
   ]
  },
  {
   "cell_type": "code",
   "execution_count": null,
   "metadata": {},
   "outputs": [],
   "source": [
    "# Using negative step\n",
    "names_list = ['Amr', 'Ali', 'Sara', 'Aisha', 'Omar']\n",
    "print(names_list) # ['Amr', 'Ali', 'Sara', 'Aisha', 'Omar']\n",
    "\n",
    "print(names_list[4:0:-1]) # ['Omar', 'Aisha', 'Sara', 'Ali']\n",
    "print(names_list[4:0:-2]) # ['Omar', 'Sara']\n",
    "print(names_list[::-1]) # ['Omar', 'Aisha', 'Sara', 'Ali', 'Amr'] Reverse the list"
   ]
  },
  {
   "cell_type": "markdown",
   "metadata": {},
   "source": [
    "## Sorting a List 🧹\n",
    "\n",
    "- You can sort a list using the `sort()` method.\n",
    "- You can sort a list using the `sorted()` function.\n",
    "- You can sort a list in `ascending` order.\n",
    "- You can sort a list in `descending` order.\n",
    "- You can sort a list in `reverse` order."
   ]
  },
  {
   "cell_type": "code",
   "execution_count": 41,
   "metadata": {},
   "outputs": [
    {
     "name": "stdout",
     "output_type": "stream",
     "text": [
      "[1, 2, 3, 4, 5]\n",
      "[1, 2, 3, 4, 5]\n",
      "[5, 3, 1, 4, 2]\n",
      "[2, 4, 1, 3, 5]\n",
      "[2, 4, 1, 3, 5]\n"
     ]
    }
   ],
   "source": [
    "# Sort() method\n",
    "numbers_list = [5, 3, 1, 4, 2]\n",
    "numbers_list.sort() # Sort the list in ascending order, this is in place sorting\n",
    "print(numbers_list) # [1, 2, 3, 4, 5]\n",
    "\n",
    "# sorted() function\n",
    "numbers_list = [5, 3, 1, 4, 2]\n",
    "sorted_numbers_list = sorted(numbers_list) # Sort the list in ascending order, this is not in place sorting\n",
    "print(sorted_numbers_list) # [1, 2, 3, 4, 5]\n",
    "print(numbers_list) # [5, 3, 1, 4, 2]\n",
    "\n",
    "# Reverse() method\n",
    "numbers_list = [5, 3, 1, 4, 2]\n",
    "numbers_list.reverse() # Reverse the list, this is in place reversing\n",
    "print(numbers_list) # [2, 4, 1, 3, 5]\n",
    "\n",
    "# Using sort method with reverse parameter\n",
    "numbers_list = [5, 3, 1, 4, 2]\n",
    "numbers_list.sort(reverse=True) # Sort the list in descending order, this is in place sorting\n",
    "print(numbers_list) # [5, 4, 3, 2, 1]\n",
    "\n",
    "# Using reverse slicing\n",
    "numbers_list = [5, 3, 1, 4, 2]\n",
    "print(numbers_list[::-1]) # [2, 4, 1, 3, 5]"
   ]
  },
  {
   "cell_type": "markdown",
   "metadata": {},
   "source": [
    "## Nested Lists 📦\n",
    "\n",
    "- A nested list is a list that contains other lists.\n",
    "- You can create a nested list by placing a list inside another list.\n",
    "- You can access items in a nested list using multiple indexes.\n",
    "- You can access items in a nested list using a for loop.\n",
    "- You can access items in a nested list using a list comprehension."
   ]
  },
  {
   "cell_type": "code",
   "execution_count": 43,
   "metadata": {},
   "outputs": [
    {
     "name": "stdout",
     "output_type": "stream",
     "text": [
      "[[1, 2, 3], [4, 5, 6], [7, 8, 9]]\n",
      "[1, 2, 3]\n",
      "1\n",
      "[4, 5, 6]\n",
      "6\n",
      "1 2 3 \n",
      "4 5 6 \n",
      "7 8 9 \n"
     ]
    }
   ],
   "source": [
    "nested_list = [[1, 2, 3], [4, 5, 6], [7, 8, 9]]\n",
    "print(nested_list) # [[1, 2, 3], [4, 5, 6], [7, 8, 9]]\n",
    "print(nested_list[0]) # [1, 2, 3]\n",
    "print(nested_list[0][0]) # 1\n",
    "print(nested_list[1]) # [4, 5, 6]\n",
    "print(nested_list[1][2]) # 6 \n",
    "\n",
    "# Using for loop\n",
    "for row in nested_list:\n",
    "    for number in row:\n",
    "        print(number, end=' ')\n",
    "    print()"
   ]
  },
  {
   "cell_type": "markdown",
   "metadata": {},
   "source": [
    "## Common List Methods 📚\n",
    "\n",
    "- `sum()`: Returns the sum of all items in the list.\n",
    "- `max()`: Returns the largest item in the list.\n",
    "- `min()`: Returns the smallest item in the list.\n",
    "- `len()`: Returns the number of items in the list.\n",
    "- `count()`: Returns the number of occurrences of the specified item.\n",
    "- `index()`: Returns the index of the first occurrence of the specified item.\n",
    "- `reverse()`: Reverses the order of the list.\n",
    "- `sort()`: Sorts the list in ascending order.\n",
    "- `copy()`: Returns a copy of the list.\n",
    "- `clear()`: Removes all items from the list.\n",
    "- `extend()`: Adds the elements of an iterable (list, tuple, string, etc.) to the end of the list.\n",
    "- `append()`: Adds an item to the end of the list.\n",
    "- `insert()`: Adds an item at the specified index.\n",
    "- `remove()`: Removes the first occurrence of the specified item.\n",
    "- `pop()`: Removes the item at the specified index and returns it.\n",
    "- `del`: Removes the item at the specified index.\n",
    "- `del`: Removes the items in the specified range.\n",
    "- `del`: Deletes the entire list. `Note that the list no longer exists.`\n",
    "- `clear()`: Removes all items from the list. `Note the list still exists, but it is empty.`"
   ]
  },
  {
   "cell_type": "code",
   "execution_count": 44,
   "metadata": {},
   "outputs": [
    {
     "name": "stdout",
     "output_type": "stream",
     "text": [
      "15\n",
      "1\n",
      "5\n"
     ]
    }
   ],
   "source": [
    "# Sum method\n",
    "numbers_list = [1, 2, 3, 4, 5]\n",
    "print(sum(numbers_list)) # 15\n",
    "\n",
    "# Min method\n",
    "numbers_list = [1, 2, 3, 4, 5]\n",
    "print(min(numbers_list)) # 1\n",
    "\n",
    "# Max method\n",
    "numbers_list = [1, 2, 3, 4, 5]\n",
    "print(max(numbers_list)) # 5\n"
   ]
  },
  {
   "cell_type": "markdown",
   "metadata": {},
   "source": [
    "## What are tuples? 🤔\n",
    "\n",
    "- Tuples are similar to lists, but they are `immutable`, which means that you cannot change the values of the items in a tuple after it has been created.\n",
    "- Tuples are defined by parentheses `()`.\n",
    "- Tuples are `ordered`, `indexed`, and `iterable`.\n",
    "\n",
    "🚨 `All what we discussed about lists is also applicable to tuples, except that tuples are immutable.` 🚨\n",
    "\n",
    "🚨 **So any method that changes the list will not work with tuples.** 🚨"
   ]
  },
  {
   "cell_type": "code",
   "execution_count": 46,
   "metadata": {},
   "outputs": [
    {
     "name": "stdout",
     "output_type": "stream",
     "text": [
      "('Amr', 'Ali', 'Sara', 'Aisha', 'Omar')\n",
      "<class 'tuple'>\n",
      "1\n"
     ]
    }
   ],
   "source": [
    "tuple_names = ('Amr', 'Ali', 'Sara', 'Aisha', 'Omar')\n",
    "print(tuple_names) # ('Amr', 'Ali', 'Sara', 'Aisha', 'Omar')\n",
    "print(type(tuple_names)) # <class 'tuple'>\n",
    "\n",
    "# tuple_names[0] = 'Ahmed' # TypeError: 'tuple' object does not support item assignment\n",
    "print(tuple_names.count('Ali')) # 1"
   ]
  }
 ],
 "metadata": {
  "kernelspec": {
   "display_name": "Python 3",
   "language": "python",
   "name": "python3"
  },
  "language_info": {
   "codemirror_mode": {
    "name": "ipython",
    "version": 3
   },
   "file_extension": ".py",
   "mimetype": "text/x-python",
   "name": "python",
   "nbconvert_exporter": "python",
   "pygments_lexer": "ipython3",
   "version": "3.13.1"
  }
 },
 "nbformat": 4,
 "nbformat_minor": 2
}
